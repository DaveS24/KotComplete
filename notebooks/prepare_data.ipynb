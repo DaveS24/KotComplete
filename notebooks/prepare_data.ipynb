{
 "cells": [
  {
   "metadata": {
    "ExecuteTime": {
     "end_time": "2024-04-30T08:49:03.504522Z",
     "start_time": "2024-04-30T08:49:03.430980Z"
    }
   },
   "cell_type": "code",
   "source": [
    "import os\n",
    "import sys\n",
    "from tqdm import tqdm\n",
    "\n",
    "sys.path.insert(0, '../src/')\n",
    "\n",
    "from data_parser import extract_tasks"
   ],
   "id": "995e407ee1711138",
   "outputs": [],
   "execution_count": 1
  },
  {
   "metadata": {
    "ExecuteTime": {
     "end_time": "2024-04-30T08:55:12.686752Z",
     "start_time": "2024-04-30T08:49:03.522009Z"
    }
   },
   "cell_type": "code",
   "source": [
    "files_dir = \"../data/kotlin_files/\"\n",
    "\n",
    "kotlin_files = os.listdir(files_dir)\n",
    "\n",
    "for file in tqdm(kotlin_files, desc=\"Fetching tasks\"):\n",
    "    with open(files_dir + file, 'r', encoding='utf-8') as f:\n",
    "        content = f.read()\n",
    "        extract_tasks(content)"
   ],
   "id": "9071b357afa7f089",
   "outputs": [
    {
     "name": "stderr",
     "output_type": "stream",
     "text": [
      "Fetching tasks: 100%|██████████| 41795/41795 [06:08<00:00, 113.30it/s]\n"
     ]
    }
   ],
   "execution_count": 2
  }
 ],
 "metadata": {
  "kernelspec": {
   "display_name": "Python 3",
   "language": "python",
   "name": "python3"
  },
  "language_info": {
   "codemirror_mode": {
    "name": "ipython",
    "version": 2
   },
   "file_extension": ".py",
   "mimetype": "text/x-python",
   "name": "python",
   "nbconvert_exporter": "python",
   "pygments_lexer": "ipython2",
   "version": "2.7.6"
  }
 },
 "nbformat": 4,
 "nbformat_minor": 5
}
