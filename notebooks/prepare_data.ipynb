{
 "cells": [
  {
   "metadata": {},
   "cell_type": "markdown",
   "source": [
    "# Kotlin Data Parser\n",
    "\n",
    "This notebook is used to parse the Kotlin data and save the completion tasks in a format that can later be loaded as a dataset.\n",
    "\n",
    "The completion tasks are of various types:\n",
    "- *condition*: complete the body of an `if`, `else if`, `else`, and `when` statement\n",
    "- *function*: complete the body of a `fun`\n",
    "- *import*: complete the `import` or `package` statement\n",
    "- *loop*: complete the body of a `for` or `while` loop\n",
    "- *variable*: complete the declaration of a `var` or `val`"
   ],
   "id": "648756fa45565c54"
  },
  {
   "metadata": {
    "ExecuteTime": {
     "end_time": "2024-05-04T16:19:26.473634Z",
     "start_time": "2024-05-04T16:19:26.450120Z"
    }
   },
   "cell_type": "code",
   "source": "from kotlin_data_parser import extract_and_save_completion_tasks, train_test_split, tasks_summary",
   "id": "995e407ee1711138",
   "outputs": [],
   "execution_count": 1
  },
  {
   "metadata": {
    "ExecuteTime": {
     "end_time": "2024-05-04T16:19:26.483264Z",
     "start_time": "2024-05-04T16:19:26.476643Z"
    }
   },
   "cell_type": "code",
   "source": [
    "data_dir = \"../data/Kotlin/\"\n",
    "tasks_dir = \"../data/Kotlin/completion_tasks/\""
   ],
   "id": "82003c1adfdb97ec",
   "outputs": [],
   "execution_count": 2
  },
  {
   "metadata": {
    "ExecuteTime": {
     "end_time": "2024-05-04T16:20:27.008006Z",
     "start_time": "2024-05-04T16:19:26.485271Z"
    }
   },
   "cell_type": "code",
   "source": [
    "extract_and_save_completion_tasks(data_dir=data_dir + \"kotlin_files/\", output_dir=tasks_dir)\n",
    "tasks_summary(tasks_dir)"
   ],
   "id": "9071b357afa7f089",
   "outputs": [
    {
     "name": "stdout",
     "output_type": "stream",
     "text": [
      "condition_tasks.jsonl: 14916\n",
      "function_tasks.jsonl: 10171\n",
      "import_tasks.jsonl: 1540\n",
      "loop_tasks.jsonl: 3426\n",
      "variable_tasks.jsonl: 36071\n",
      "Total # of tasks: 66124\n"
     ]
    }
   ],
   "execution_count": 3
  },
  {
   "metadata": {
    "ExecuteTime": {
     "end_time": "2024-05-04T16:20:28.286047Z",
     "start_time": "2024-05-04T16:20:27.014021Z"
    }
   },
   "cell_type": "code",
   "source": [
    "train_test_split(data_dir=tasks_dir, output_dir=data_dir)\n",
    "tasks_summary(data_dir)"
   ],
   "id": "22f65f030133dbca",
   "outputs": [
    {
     "name": "stdout",
     "output_type": "stream",
     "text": [
      "test.jsonl: 13225\n",
      "train.jsonl: 52899\n",
      "Total # of tasks: 66124\n"
     ]
    }
   ],
   "execution_count": 4
  }
 ],
 "metadata": {
  "kernelspec": {
   "display_name": "Python 3",
   "language": "python",
   "name": "python3"
  },
  "language_info": {
   "codemirror_mode": {
    "name": "ipython",
    "version": 2
   },
   "file_extension": ".py",
   "mimetype": "text/x-python",
   "name": "python",
   "nbconvert_exporter": "python",
   "pygments_lexer": "ipython2",
   "version": "2.7.6"
  }
 },
 "nbformat": 4,
 "nbformat_minor": 5
}
