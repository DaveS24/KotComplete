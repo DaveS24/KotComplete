{
 "cells": [
  {
   "metadata": {
    "ExecuteTime": {
     "end_time": "2024-05-01T15:00:38.232769Z",
     "start_time": "2024-05-01T15:00:38.194879Z"
    }
   },
   "cell_type": "code",
   "source": [
    "import os\n",
    "import sys\n",
    "from tqdm import tqdm\n",
    "\n",
    "sys.path.insert(0, '../src/')\n",
    "\n",
    "from data_parser import extract_completion_tasks, tasks_summary"
   ],
   "id": "995e407ee1711138",
   "outputs": [],
   "execution_count": 1
  },
  {
   "metadata": {
    "ExecuteTime": {
     "end_time": "2024-05-01T14:44:13.139600Z",
     "start_time": "2024-05-01T14:43:08.488505Z"
    }
   },
   "cell_type": "code",
   "source": [
    "files_dir = \"../data/Kotlin/kotlin_files/\"\n",
    "\n",
    "kotlin_files = os.listdir(files_dir)\n",
    "\n",
    "for file in tqdm(kotlin_files, desc=\"Fetching tasks\"):\n",
    "    with open(files_dir + file, 'r', encoding='utf-8') as f:\n",
    "        content = f.read()\n",
    "        extract_completion_tasks(content)"
   ],
   "id": "9071b357afa7f089",
   "outputs": [
    {
     "name": "stderr",
     "output_type": "stream",
     "text": [
      "Fetching tasks: 100%|██████████| 41795/41795 [01:04<00:00, 648.30it/s]\n"
     ]
    }
   ],
   "execution_count": 2
  },
  {
   "metadata": {
    "ExecuteTime": {
     "end_time": "2024-05-01T15:00:40.579199Z",
     "start_time": "2024-05-01T15:00:40.417325Z"
    }
   },
   "cell_type": "code",
   "source": "tasks_summary()",
   "id": "70c86819355a51a3",
   "outputs": [
    {
     "name": "stdout",
     "output_type": "stream",
     "text": [
      "condition_tasks.jsonl: 22159\n",
      "function_tasks.jsonl: 19653\n",
      "import_tasks.jsonl: 46215\n",
      "loop_tasks.jsonl: 4815\n",
      "variable_tasks.jsonl: 94116\n",
      "--------------------\n",
      "Total number: 186958\n"
     ]
    }
   ],
   "execution_count": 2
  }
 ],
 "metadata": {
  "kernelspec": {
   "display_name": "Python 3",
   "language": "python",
   "name": "python3"
  },
  "language_info": {
   "codemirror_mode": {
    "name": "ipython",
    "version": 2
   },
   "file_extension": ".py",
   "mimetype": "text/x-python",
   "name": "python",
   "nbconvert_exporter": "python",
   "pygments_lexer": "ipython2",
   "version": "2.7.6"
  }
 },
 "nbformat": 4,
 "nbformat_minor": 5
}
