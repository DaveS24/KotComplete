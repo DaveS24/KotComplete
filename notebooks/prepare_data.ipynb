{
 "cells": [
  {
   "metadata": {
    "ExecuteTime": {
     "end_time": "2024-05-03T15:52:39.684883Z",
     "start_time": "2024-05-03T15:52:39.661593Z"
    }
   },
   "cell_type": "code",
   "source": "from data_parser import extract_completion_tasks, split_data",
   "id": "995e407ee1711138",
   "outputs": [],
   "execution_count": 1
  },
  {
   "metadata": {
    "ExecuteTime": {
     "end_time": "2024-05-03T15:52:39.692248Z",
     "start_time": "2024-05-03T15:52:39.687889Z"
    }
   },
   "cell_type": "code",
   "source": [
    "data_dir = \"../data/Kotlin/kotlin_files/\"\n",
    "output_dir = \"../data/Kotlin/\""
   ],
   "id": "82003c1adfdb97ec",
   "outputs": [],
   "execution_count": 2
  },
  {
   "metadata": {
    "ExecuteTime": {
     "end_time": "2024-05-03T15:53:00.135615Z",
     "start_time": "2024-05-03T15:52:39.694255Z"
    }
   },
   "cell_type": "code",
   "source": "extract_completion_tasks(data_dir=data_dir, output_dir=output_dir + \"completion_tasks/\")",
   "id": "9071b357afa7f089",
   "outputs": [
    {
     "name": "stderr",
     "output_type": "stream",
     "text": [
      "Fetching tasks: 5it [00:20,  4.05s/it]"
     ]
    },
    {
     "name": "stdout",
     "output_type": "stream",
     "text": [
      "condition_tasks.jsonl: 14849\n",
      "function_tasks.jsonl: 10065\n",
      "import_tasks.jsonl: 1680\n",
      "loop_tasks.jsonl: 3415\n",
      "variable_tasks.jsonl: 38142\n",
      "--------------------\n",
      "Total number: 68151\n"
     ]
    },
    {
     "name": "stderr",
     "output_type": "stream",
     "text": [
      "\n"
     ]
    }
   ],
   "execution_count": 3
  },
  {
   "metadata": {
    "ExecuteTime": {
     "end_time": "2024-05-03T15:53:00.931718Z",
     "start_time": "2024-05-03T15:53:00.137625Z"
    }
   },
   "cell_type": "code",
   "source": "split_data(data_dir=output_dir + \"completion_tasks/\", output_dir=output_dir)",
   "id": "22f65f030133dbca",
   "outputs": [
    {
     "name": "stdout",
     "output_type": "stream",
     "text": [
      "test.jsonl: 13631\n",
      "train.jsonl: 54520\n",
      "--------------------\n",
      "Total number: 68151\n"
     ]
    }
   ],
   "execution_count": 4
  }
 ],
 "metadata": {
  "kernelspec": {
   "display_name": "Python 3",
   "language": "python",
   "name": "python3"
  },
  "language_info": {
   "codemirror_mode": {
    "name": "ipython",
    "version": 2
   },
   "file_extension": ".py",
   "mimetype": "text/x-python",
   "name": "python",
   "nbconvert_exporter": "python",
   "pygments_lexer": "ipython2",
   "version": "2.7.6"
  }
 },
 "nbformat": 4,
 "nbformat_minor": 5
}
