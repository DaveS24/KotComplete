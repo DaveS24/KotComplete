{
 "cells": [
  {
   "metadata": {
    "ExecuteTime": {
     "end_time": "2024-05-03T14:27:19.694048Z",
     "start_time": "2024-05-03T14:27:19.673878Z"
    }
   },
   "cell_type": "code",
   "source": "from data_parser import extract_completion_tasks, split_data",
   "id": "995e407ee1711138",
   "outputs": [],
   "execution_count": 1
  },
  {
   "metadata": {
    "ExecuteTime": {
     "end_time": "2024-05-03T14:27:19.701436Z",
     "start_time": "2024-05-03T14:27:19.697057Z"
    }
   },
   "cell_type": "code",
   "source": [
    "data_dir = \"../data/Kotlin/kotlin_files/\"\n",
    "output_dir = \"../data/Kotlin/\""
   ],
   "id": "82003c1adfdb97ec",
   "outputs": [],
   "execution_count": 2
  },
  {
   "metadata": {
    "ExecuteTime": {
     "end_time": "2024-05-03T14:27:36.268252Z",
     "start_time": "2024-05-03T14:27:19.704441Z"
    }
   },
   "cell_type": "code",
   "source": "extract_completion_tasks(data_dir=data_dir, output_dir=output_dir + \"completion_tasks/\")",
   "id": "9071b357afa7f089",
   "outputs": [
    {
     "name": "stderr",
     "output_type": "stream",
     "text": [
      "Fetching tasks: 5it [00:16,  3.28s/it]"
     ]
    },
    {
     "name": "stdout",
     "output_type": "stream",
     "text": [
      "condition_tasks.jsonl: 14856\n",
      "function_tasks.jsonl: 10065\n",
      "import_tasks.jsonl: 1618\n",
      "loop_tasks.jsonl: 3435\n",
      "variable_tasks.jsonl: 38142\n",
      "--------------------\n",
      "Total number: 68116\n"
     ]
    },
    {
     "name": "stderr",
     "output_type": "stream",
     "text": [
      "\n"
     ]
    }
   ],
   "execution_count": 3
  },
  {
   "metadata": {
    "ExecuteTime": {
     "end_time": "2024-05-03T14:27:36.938372Z",
     "start_time": "2024-05-03T14:27:36.270263Z"
    }
   },
   "cell_type": "code",
   "source": "split_data(data_dir=output_dir + \"completion_tasks/\", output_dir=output_dir)",
   "id": "22f65f030133dbca",
   "outputs": [
    {
     "name": "stdout",
     "output_type": "stream",
     "text": [
      "test.jsonl: 13624\n",
      "train.jsonl: 54492\n",
      "--------------------\n",
      "Total number: 68116\n"
     ]
    }
   ],
   "execution_count": 4
  }
 ],
 "metadata": {
  "kernelspec": {
   "display_name": "Python 3",
   "language": "python",
   "name": "python3"
  },
  "language_info": {
   "codemirror_mode": {
    "name": "ipython",
    "version": 2
   },
   "file_extension": ".py",
   "mimetype": "text/x-python",
   "name": "python",
   "nbconvert_exporter": "python",
   "pygments_lexer": "ipython2",
   "version": "2.7.6"
  }
 },
 "nbformat": 4,
 "nbformat_minor": 5
}
