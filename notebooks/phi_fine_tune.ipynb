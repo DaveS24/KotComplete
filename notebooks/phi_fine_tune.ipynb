{
 "cells": [
  {
   "metadata": {},
   "cell_type": "code",
   "source": [
    "# !pip install torch torchvision\n",
    "# !pip install transformers\n",
    "# !pip install peft\n",
    "# !pip install bitsandbytes\n",
    "# !pip install accelerate -U"
   ],
   "id": "f17f77c3fffaf014",
   "outputs": [],
   "execution_count": null
  },
  {
   "metadata": {
    "ExecuteTime": {
     "end_time": "2024-05-03T19:34:30.899808Z",
     "start_time": "2024-05-03T19:34:30.895011Z"
    }
   },
   "cell_type": "code",
   "source": [
    "import json\n",
    "import torch\n",
    "\n",
    "from transformers import AutoModelForCausalLM, AutoTokenizer, BitsAndBytesConfig, Trainer, TrainingArguments, DataCollatorForLanguageModeling\n",
    "from datasets import Dataset\n",
    "from peft import LoraConfig, get_peft_model"
   ],
   "id": "f623ea5f8855dc49",
   "outputs": [],
   "execution_count": 8
  },
  {
   "metadata": {
    "ExecuteTime": {
     "end_time": "2024-05-03T19:34:31.469293Z",
     "start_time": "2024-05-03T19:34:31.464651Z"
    }
   },
   "cell_type": "code",
   "source": [
    "model_name = \"microsoft/phi-1_5\"\n",
    "data_path = \"../data/Kotlin/train.jsonl\""
   ],
   "id": "a2ef6dfbbf1da8df",
   "outputs": [],
   "execution_count": 9
  },
  {
   "metadata": {},
   "cell_type": "code",
   "source": [
    "bnb_config = BitsAndBytesConfig(load_in_4bit=True,\n",
    "                                bnb_4bit_use_double_quant=True,\n",
    "                                bnb_4bit_quant_type=\"nf4\",\n",
    "                                bnb_4bit_compute_dtype=torch.float16)\n",
    "\n",
    "phi_model = AutoModelForCausalLM.from_pretrained(model_name, quantization_config=bnb_config)"
   ],
   "id": "97d97d9fa8af4e32",
   "outputs": [],
   "execution_count": null
  },
  {
   "metadata": {},
   "cell_type": "code",
   "source": [
    "lora_config = LoraConfig(\n",
    "    r=16,\n",
    "    lora_alpha=16,\n",
    "    target_modules=[\"fc1\", \"fc2\",\"Wqkv\", \"out_proj\"],\n",
    "    lora_dropout=0.05,\n",
    "    bias=\"none\",\n",
    "    task_type=\"CAUSAL_LM\"\n",
    ")\n",
    "\n",
    "phi_model = get_peft_model(phi_model, lora_config)\n",
    "phi_model.print_trainable_parameters()"
   ],
   "id": "e93dcf6226bef41b",
   "outputs": [],
   "execution_count": null
  },
  {
   "metadata": {
    "ExecuteTime": {
     "end_time": "2024-05-03T19:34:35.223863Z",
     "start_time": "2024-05-03T19:34:35.217500Z"
    }
   },
   "cell_type": "code",
   "source": [
    "def load_and_tokenize_dataset(file_path, tokenizer):\n",
    "    dataset = []\n",
    "    with open(file_path, 'r', encoding='utf-8') as file:\n",
    "        for line in file:\n",
    "            data = json.loads(line)\n",
    "            dataset.append(data)\n",
    "\n",
    "    input_texts = [data[\"signature\"] for data in dataset]\n",
    "    target_texts = [data[\"body\"] for data in dataset]\n",
    "\n",
    "    tokenized_inputs = tokenizer(input_texts, padding=True, truncation=True, return_tensors=\"pt\")\n",
    "    tokenized_targets = tokenizer(target_texts, padding=True, truncation=True, return_tensors=\"pt\")\n",
    "\n",
    "    tokenized_inputs[\"labels\"] = tokenized_targets[\"input_ids\"]\n",
    "\n",
    "    dataset = Dataset.from_dict({\n",
    "        \"input_ids\": tokenized_inputs[\"input_ids\"],\n",
    "        \"attention_mask\": tokenized_inputs[\"attention_mask\"],\n",
    "        \"labels\": tokenized_inputs[\"labels\"]\n",
    "    })\n",
    "\n",
    "    return dataset"
   ],
   "id": "7cfffa36aae48c03",
   "outputs": [],
   "execution_count": 10
  },
  {
   "metadata": {
    "ExecuteTime": {
     "end_time": "2024-05-03T19:35:02.337851Z",
     "start_time": "2024-05-03T19:34:36.534779Z"
    }
   },
   "cell_type": "code",
   "source": [
    "phi_tokenizer = AutoTokenizer.from_pretrained(model_name)\n",
    "phi_tokenizer.pad_token = phi_tokenizer.eos_token\n",
    "\n",
    "kt_tokenized_inputs = load_and_tokenize_dataset(data_path, phi_tokenizer)"
   ],
   "id": "577b7ca257af75cd",
   "outputs": [],
   "execution_count": 11
  },
  {
   "metadata": {},
   "cell_type": "code",
   "source": [
    "training_args = TrainingArguments(\n",
    "    output_dir=\"output\",\n",
    "    per_device_train_batch_size=2,\n",
    "    gradient_accumulation_steps=2,\n",
    "    learning_rate=2e-4,\n",
    "    lr_scheduler_type=\"cosine\",\n",
    "    save_strategy=\"epoch\",\n",
    "    logging_steps=30,\n",
    "    max_steps=-1,\n",
    "    num_train_epochs=2,\n",
    "    disable_tqdm=False\n",
    ")\n",
    "\n",
    "trainer = Trainer(\n",
    "    model=phi_model,\n",
    "    args=training_args,\n",
    "    train_dataset=kt_tokenized_inputs,\n",
    "    data_collator=DataCollatorForLanguageModeling(phi_tokenizer, mlm=False)\n",
    ")"
   ],
   "id": "510755f8c3c11dc7",
   "outputs": [],
   "execution_count": null
  },
  {
   "metadata": {},
   "cell_type": "code",
   "source": "trainer.train()",
   "id": "ef49a0dbdf358128",
   "outputs": [],
   "execution_count": null
  },
  {
   "metadata": {},
   "cell_type": "code",
   "source": "trainer.save_model(\"./fine_tuned_model\")",
   "id": "3a7366236a35a612",
   "outputs": [],
   "execution_count": null
  }
 ],
 "metadata": {
  "kernelspec": {
   "display_name": "Python 3",
   "language": "python",
   "name": "python3"
  },
  "language_info": {
   "codemirror_mode": {
    "name": "ipython",
    "version": 2
   },
   "file_extension": ".py",
   "mimetype": "text/x-python",
   "name": "python",
   "nbconvert_exporter": "python",
   "pygments_lexer": "ipython2",
   "version": "2.7.6"
  }
 },
 "nbformat": 4,
 "nbformat_minor": 5
}
