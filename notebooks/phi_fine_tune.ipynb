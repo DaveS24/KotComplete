{
 "cells": [
  {
   "metadata": {},
   "cell_type": "code",
   "outputs": [],
   "execution_count": null,
   "source": [
    "!pip install torch torchvision\n",
    "!pip install transformers"
   ],
   "id": "f17f77c3fffaf014"
  },
  {
   "metadata": {},
   "cell_type": "code",
   "outputs": [],
   "execution_count": null,
   "source": [
    "import json\n",
    "import torch\n",
    "\n",
    "from transformers import AutoModelForCausalLM, AutoTokenizer, Trainer, TrainingArguments, DataCollatorForLanguageModeling"
   ],
   "id": "f623ea5f8855dc49"
  },
  {
   "metadata": {},
   "cell_type": "code",
   "outputs": [],
   "execution_count": null,
   "source": [
    "model_name = \"microsoft/phi-1_5\"\n",
    "\n",
    "phi_tokenizer = AutoTokenizer.from_pretrained(model_name)\n",
    "phi_model = AutoModelForCausalLM.from_pretrained(model_name)"
   ],
   "id": "97d97d9fa8af4e32"
  },
  {
   "metadata": {},
   "cell_type": "code",
   "outputs": [],
   "execution_count": null,
   "source": [
    "def read_dataset(file_path):\n",
    "    dataset = []\n",
    "    with open(file_path, 'r', encoding='utf-8') as file:\n",
    "          for line in file:\n",
    "              data = json.loads(line)\n",
    "              dataset.append(data)\n",
    "    return dataset\n",
    "\n",
    "\n",
    "def preprocess_and_tokenize(dataset, tokenizer):\n",
    "    input_texts = []\n",
    "    target_texts = []\n",
    "    for data in dataset:\n",
    "        input_text = data[\"signature\"]\n",
    "        target_text = data[\"body\"]\n",
    "\n",
    "        input_texts.append(input_text)\n",
    "        target_texts.append(target_text)\n",
    "    \n",
    "    tokenized_inputs = tokenizer(input_texts, return_tensors=\"pt\", padding=True, truncation=True)\n",
    "    return tokenized_inputs"
   ],
   "id": "7cfffa36aae48c03"
  },
  {
   "metadata": {},
   "cell_type": "code",
   "outputs": [],
   "execution_count": null,
   "source": [
    "data_path = \"/content/data/train.jsonl\"\n",
    "\n",
    "kotlin_dataset = read_dataset(data_path)\n",
    "kotlin_tokenized_inputs = preprocess_and_tokenize(kotlin_dataset, phi_tokenizer)"
   ],
   "id": "577b7ca257af75cd"
  },
  {
   "metadata": {},
   "cell_type": "code",
   "outputs": [],
   "execution_count": null,
   "source": [
    "# Define training arguments\n",
    "training_args = TrainingArguments(\n",
    "    output_dir=\"./output\",\n",
    "    overwrite_output_dir=True,\n",
    "    num_train_epochs=3,\n",
    "    per_device_train_batch_size=4,\n",
    "    save_steps=1000,\n",
    "    save_total_limit=2,\n",
    "    logging_steps=100,\n",
    "    evaluation_strategy=\"steps\",\n",
    "    eval_steps=500,\n",
    "    logging_dir=\"./logs\",\n",
    "    disable_tqdm=False,\n",
    ")\n",
    "\n",
    "# Define data collator\n",
    "data_collator = DataCollatorForLanguageModeling(\n",
    "    tokenizer=phi_tokenizer, mlm=False\n",
    ")\n",
    "\n",
    "# Define optimizer\n",
    "optimizer = torch.optim.AdamW(\n",
    "    phi_model.parameters(), \n",
    "    lr=5e-5,\n",
    "    eps=1e-8\n",
    ")\n",
    "\n",
    "# Define scheduler\n",
    "scheduler = torch.optim.lr_scheduler.StepLR(\n",
    "    optimizer,\n",
    "    step_size=500,\n",
    "    gamma=0.1\n",
    ")\n",
    "\n",
    "# Create Trainer instance\n",
    "trainer = Trainer(\n",
    "    model=phi_model,\n",
    "    args=training_args,\n",
    "    data_collator=data_collator,\n",
    "    train_dataset=kotlin_tokenized_inputs,\n",
    "    optimizers=(optimizer, scheduler)\n",
    ")"
   ],
   "id": "510755f8c3c11dc7"
  },
  {
   "metadata": {},
   "cell_type": "code",
   "outputs": [],
   "execution_count": null,
   "source": "trainer.train()",
   "id": "ef49a0dbdf358128"
  },
  {
   "metadata": {},
   "cell_type": "code",
   "outputs": [],
   "execution_count": null,
   "source": "trainer.save_model(\"./fine_tuned_model\")",
   "id": "3a7366236a35a612"
  }
 ],
 "metadata": {
  "kernelspec": {
   "display_name": "Python 3",
   "language": "python",
   "name": "python3"
  },
  "language_info": {
   "codemirror_mode": {
    "name": "ipython",
    "version": 2
   },
   "file_extension": ".py",
   "mimetype": "text/x-python",
   "name": "python",
   "nbconvert_exporter": "python",
   "pygments_lexer": "ipython2",
   "version": "2.7.6"
  }
 },
 "nbformat": 4,
 "nbformat_minor": 5
}
