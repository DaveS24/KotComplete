{
 "cells": [
  {
   "metadata": {},
   "cell_type": "code",
   "source": [
    "# !pip install torch torchvision\n",
    "# !pip install transformers\n",
    "# !pip install datasets\n",
    "# !pip install peft\n",
    "# !pip install bitsandbytes\n",
    "# !pip install accelerate -U\n",
    "# !pip install wandb"
   ],
   "id": "f17f77c3fffaf014",
   "outputs": [],
   "execution_count": null
  },
  {
   "metadata": {},
   "cell_type": "code",
   "source": [
    "import torch\n",
    "import requests\n",
    "\n",
    "from transformers import AutoModelForCausalLM, AutoTokenizer, BitsAndBytesConfig, Trainer, TrainingArguments, DataCollatorForLanguageModeling\n",
    "from peft import LoraConfig, get_peft_model\n",
    "from typing import Callable"
   ],
   "id": "f623ea5f8855dc49",
   "outputs": [],
   "execution_count": null
  },
  {
   "metadata": {},
   "cell_type": "code",
   "source": [
    "import wandb\n",
    "\n",
    "wandb.login()\n",
    "run = wandb.init(project='Fine tuning phi-1.5 for Kotlin code completion', job_type=\"training\", anonymous=\"allow\")"
   ],
   "id": "359c62820667bfc8",
   "outputs": [],
   "execution_count": null
  },
  {
   "metadata": {},
   "cell_type": "code",
   "source": [
    "model_name = \"microsoft/phi-1_5\"\n",
    "data_url = \"https://raw.githubusercontent.com/DaveS24/KotComplete/main/data/Kotlin/train.jsonl\"\n",
    "dataset_loader_url = \"https://raw.githubusercontent.com/DaveS24/KotComplete/main/src/dataset_loader.py\"\n",
    "\n",
    "model_dir = \"./model/\"\n",
    "model_output_dir = model_dir + \"output/\""
   ],
   "id": "a2ef6dfbbf1da8df",
   "outputs": [],
   "execution_count": null
  },
  {
   "metadata": {},
   "cell_type": "code",
   "source": [
    "response_data_parser = requests.get(dataset_loader_url)\n",
    "data_parser_code = response_data_parser.text\n",
    "\n",
    "load_jsonl_from_url: Callable\n",
    "create_and_tokenize_dataset: Callable\n",
    "dataset_summary: Callable\n",
    "\n",
    "exec(data_parser_code)"
   ],
   "id": "a13daf52960be503",
   "outputs": [],
   "execution_count": null
  },
  {
   "metadata": {},
   "cell_type": "code",
   "source": [
    "bnb_config = BitsAndBytesConfig(load_in_4bit=True,\n",
    "                                bnb_4bit_use_double_quant=True,\n",
    "                                bnb_4bit_quant_type=\"nf4\",\n",
    "                                bnb_4bit_compute_dtype=torch.float16)\n",
    "\n",
    "phi_model = AutoModelForCausalLM.from_pretrained(model_name, quantization_config=bnb_config)"
   ],
   "id": "97d97d9fa8af4e32",
   "outputs": [],
   "execution_count": null
  },
  {
   "metadata": {},
   "cell_type": "code",
   "source": [
    "lora_config = LoraConfig(\n",
    "    r=16,\n",
    "    lora_alpha=16,\n",
    "    target_modules=[\"fc1\", \"fc2\",\"Wqkv\", \"out_proj\"],\n",
    "    lora_dropout=0.05,\n",
    "    bias=\"none\",\n",
    "    task_type=\"CAUSAL_LM\"\n",
    ")\n",
    "\n",
    "phi_model = get_peft_model(phi_model, lora_config)\n",
    "phi_model.print_trainable_parameters()"
   ],
   "id": "e93dcf6226bef41b",
   "outputs": [],
   "execution_count": null
  },
  {
   "metadata": {},
   "cell_type": "code",
   "source": [
    "phi_tokenizer = AutoTokenizer.from_pretrained(model_name)\n",
    "phi_tokenizer.pad_token = phi_tokenizer.eos_token\n",
    "\n",
    "train_data = load_jsonl_from_url(data_url, use_subset=True)\n",
    "train_dataset = create_and_tokenize_dataset(train_data, phi_tokenizer)\n",
    "\n",
    "dataset_summary(train_dataset)"
   ],
   "id": "577b7ca257af75cd",
   "outputs": [],
   "execution_count": null
  },
  {
   "metadata": {},
   "cell_type": "code",
   "source": [
    "training_args = TrainingArguments(\n",
    "    output_dir=model_output_dir,\n",
    "    per_device_train_batch_size=6,\n",
    "    gradient_accumulation_steps=2,\n",
    "    learning_rate=2e-4,\n",
    "    max_steps=-1,\n",
    "    num_train_epochs=2,\n",
    "    lr_scheduler_type=\"cosine\",\n",
    "    logging_steps=50,\n",
    "    save_strategy=\"steps\",\n",
    "    save_steps=500,\n",
    "    disable_tqdm=False,\n",
    "    resume_from_checkpoint=model_output_dir\n",
    ")\n",
    "\n",
    "trainer = Trainer(\n",
    "    model=phi_model,\n",
    "    args=training_args,\n",
    "    train_dataset=train_dataset,\n",
    "    data_collator=DataCollatorForLanguageModeling(phi_tokenizer, mlm=False)\n",
    ")"
   ],
   "id": "510755f8c3c11dc7",
   "outputs": [],
   "execution_count": null
  },
  {
   "metadata": {},
   "cell_type": "code",
   "source": "trainer.train()",
   "id": "ef49a0dbdf358128",
   "outputs": [],
   "execution_count": null
  },
  {
   "metadata": {},
   "cell_type": "code",
   "source": "trainer.save_model(model_dir)",
   "id": "3a7366236a35a612",
   "outputs": [],
   "execution_count": null
  }
 ],
 "metadata": {
  "kernelspec": {
   "display_name": "Python 3",
   "language": "python",
   "name": "python3"
  },
  "language_info": {
   "codemirror_mode": {
    "name": "ipython",
    "version": 2
   },
   "file_extension": ".py",
   "mimetype": "text/x-python",
   "name": "python",
   "nbconvert_exporter": "python",
   "pygments_lexer": "ipython2",
   "version": "2.7.6"
  }
 },
 "nbformat": 4,
 "nbformat_minor": 5
}
