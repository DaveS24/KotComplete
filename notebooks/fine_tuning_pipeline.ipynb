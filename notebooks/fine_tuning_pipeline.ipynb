{
 "cells": [
  {
   "metadata": {},
   "cell_type": "code",
   "source": [
    "# !pip install torch torchvision\n",
    "# !pip install transformers\n",
    "# !pip install datasets\n",
    "# !pip install peft\n",
    "# !pip install bitsandbytes\n",
    "# !pip install accelerate -U\n",
    "# !pip install wandb"
   ],
   "id": "f17f77c3fffaf014",
   "outputs": [],
   "execution_count": null
  },
  {
   "metadata": {
    "ExecuteTime": {
     "end_time": "2024-05-04T08:45:04.683808Z",
     "start_time": "2024-05-04T08:45:04.676960Z"
    }
   },
   "cell_type": "code",
   "source": [
    "import json\n",
    "import torch\n",
    "\n",
    "from transformers import AutoModelForCausalLM, AutoTokenizer, BitsAndBytesConfig, Trainer, TrainingArguments, DataCollatorForLanguageModeling\n",
    "from datasets import Dataset\n",
    "from peft import LoraConfig, get_peft_model"
   ],
   "id": "f623ea5f8855dc49",
   "outputs": [],
   "execution_count": 5
  },
  {
   "metadata": {},
   "cell_type": "code",
   "outputs": [],
   "execution_count": null,
   "source": [
    "import wandb\n",
    "\n",
    "wandb.login()\n",
    "run = wandb.init(project='Fine tuning microsoft phi -1.5', job_type=\"training\", anonymous=\"allow\")"
   ],
   "id": "359c62820667bfc8"
  },
  {
   "metadata": {
    "ExecuteTime": {
     "end_time": "2024-05-04T08:45:08.795695Z",
     "start_time": "2024-05-04T08:45:08.789650Z"
    }
   },
   "cell_type": "code",
   "source": [
    "model_name = \"microsoft/phi-1_5\"\n",
    "data_path = \"../data/Kotlin/train.jsonl\"\n",
    "model_dir = \"../model/\"\n",
    "model_output_dir = model_dir + \"output/\""
   ],
   "id": "a2ef6dfbbf1da8df",
   "outputs": [],
   "execution_count": 6
  },
  {
   "metadata": {},
   "cell_type": "code",
   "source": [
    "bnb_config = BitsAndBytesConfig(load_in_4bit=True,\n",
    "                                bnb_4bit_use_double_quant=True,\n",
    "                                bnb_4bit_quant_type=\"nf4\",\n",
    "                                bnb_4bit_compute_dtype=torch.float16)\n",
    "\n",
    "phi_model = AutoModelForCausalLM.from_pretrained(model_name, quantization_config=bnb_config)"
   ],
   "id": "97d97d9fa8af4e32",
   "outputs": [],
   "execution_count": null
  },
  {
   "metadata": {},
   "cell_type": "code",
   "source": [
    "lora_config = LoraConfig(\n",
    "    r=16,\n",
    "    lora_alpha=16,\n",
    "    target_modules=[\"fc1\", \"fc2\",\"Wqkv\", \"out_proj\"],\n",
    "    lora_dropout=0.05,\n",
    "    bias=\"none\",\n",
    "    task_type=\"CAUSAL_LM\"\n",
    ")\n",
    "\n",
    "phi_model = get_peft_model(phi_model, lora_config)\n",
    "phi_model.print_trainable_parameters()"
   ],
   "id": "e93dcf6226bef41b",
   "outputs": [],
   "execution_count": null
  },
  {
   "metadata": {
    "ExecuteTime": {
     "end_time": "2024-05-04T08:50:38.526766Z",
     "start_time": "2024-05-04T08:50:38.511291Z"
    }
   },
   "cell_type": "code",
   "source": [
    "def load_and_tokenize_dataset(file_path, tokenizer, use_subset=False, subset_ratio=0.1):\n",
    "    dataset = []\n",
    "    with open(file_path, 'r', encoding='utf-8') as file:\n",
    "        for line in file:            \n",
    "            data = json.loads(line)\n",
    "            dataset.append(data)\n",
    "            \n",
    "    if use_subset:\n",
    "        subset_size = int(len(dataset) * subset_ratio)\n",
    "        dataset = dataset[:subset_size]\n",
    "\n",
    "    input_texts = [data[\"signature\"] for data in dataset]\n",
    "    target_texts = [data[\"body\"] for data in dataset]\n",
    "\n",
    "    tokenized_inputs = tokenizer(input_texts, padding=True, truncation=True, return_tensors=\"pt\")\n",
    "    tokenized_targets = tokenizer(target_texts, padding=True, truncation=True, return_tensors=\"pt\")\n",
    "\n",
    "    tokenized_inputs[\"labels\"] = tokenized_targets[\"input_ids\"]\n",
    "\n",
    "    dataset = Dataset.from_dict({\n",
    "        \"input_ids\": tokenized_inputs[\"input_ids\"],\n",
    "        \"attention_mask\": tokenized_inputs[\"attention_mask\"],\n",
    "        \"labels\": tokenized_inputs[\"labels\"]\n",
    "    })\n",
    "\n",
    "    return dataset\n",
    "\n",
    "\n",
    "def display_dataset_info(dataset):\n",
    "    print(\"Dataset Info\")\n",
    "    print(\"============\")\n",
    "    print(\"Number of samples:\", dataset.num_rows)\n",
    "    print(\"Column names:\", dataset.column_names)\n",
    "    print(\"Features:\", dataset.features)"
   ],
   "id": "7cfffa36aae48c03",
   "outputs": [],
   "execution_count": 9
  },
  {
   "metadata": {
    "ExecuteTime": {
     "end_time": "2024-05-04T08:51:52.566169Z",
     "start_time": "2024-05-04T08:50:40.530493Z"
    }
   },
   "cell_type": "code",
   "source": [
    "phi_tokenizer = AutoTokenizer.from_pretrained(model_name)\n",
    "phi_tokenizer.pad_token = phi_tokenizer.eos_token\n",
    "\n",
    "kt_tokenized_inputs = load_and_tokenize_dataset(data_path, phi_tokenizer, use_subset=True)\n",
    "display_dataset_info(kt_tokenized_inputs)"
   ],
   "id": "577b7ca257af75cd",
   "outputs": [
    {
     "name": "stdout",
     "output_type": "stream",
     "text": [
      "Dataset Info:\n",
      "Number of samples: 54520\n",
      "Column names: ['input_ids', 'attention_mask', 'labels']\n",
      "Features: {'input_ids': Sequence(feature=Value(dtype='int32', id=None), length=-1, id=None), 'attention_mask': Sequence(feature=Value(dtype='int8', id=None), length=-1, id=None), 'labels': Sequence(feature=Value(dtype='int64', id=None), length=-1, id=None)}\n"
     ]
    }
   ],
   "execution_count": 10
  },
  {
   "metadata": {},
   "cell_type": "code",
   "source": [
    "training_args = TrainingArguments(\n",
    "    output_dir=model_output_dir,\n",
    "    per_device_train_batch_size=6,\n",
    "    gradient_accumulation_steps=2,\n",
    "    learning_rate=2e-4,\n",
    "    max_steps=-1,\n",
    "    num_train_epochs=2,\n",
    "    lr_scheduler_type=\"cosine\",\n",
    "    logging_steps=50,\n",
    "    save_strategy=\"steps\",\n",
    "    save_steps=500,\n",
    "    disable_tqdm=False,\n",
    "    resume_from_checkpoint=model_output_dir\n",
    ")\n",
    "\n",
    "trainer = Trainer(\n",
    "    model=phi_model,\n",
    "    args=training_args,\n",
    "    train_dataset=kt_tokenized_inputs,\n",
    "    data_collator=DataCollatorForLanguageModeling(phi_tokenizer, mlm=False)\n",
    ")"
   ],
   "id": "510755f8c3c11dc7",
   "outputs": [],
   "execution_count": null
  },
  {
   "metadata": {},
   "cell_type": "code",
   "source": "trainer.train()",
   "id": "ef49a0dbdf358128",
   "outputs": [],
   "execution_count": null
  },
  {
   "metadata": {},
   "cell_type": "code",
   "source": "trainer.save_model(model_dir)",
   "id": "3a7366236a35a612",
   "outputs": [],
   "execution_count": null
  }
 ],
 "metadata": {
  "kernelspec": {
   "display_name": "Python 3",
   "language": "python",
   "name": "python3"
  },
  "language_info": {
   "codemirror_mode": {
    "name": "ipython",
    "version": 2
   },
   "file_extension": ".py",
   "mimetype": "text/x-python",
   "name": "python",
   "nbconvert_exporter": "python",
   "pygments_lexer": "ipython2",
   "version": "2.7.6"
  }
 },
 "nbformat": 4,
 "nbformat_minor": 5
}
