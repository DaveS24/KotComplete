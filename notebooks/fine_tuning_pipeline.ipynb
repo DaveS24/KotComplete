{
 "cells": [
  {
   "metadata": {
    "id": "511715f73795266d"
   },
   "cell_type": "markdown",
   "source": [
    "The trained model is saved in Google Drive at the following location: [Trained_Models](https://drive.google.com/drive/folders/14sKTTKcrkvs6pQmzMvICq2Q_hdVItTNU?usp=sharing)\n",
    "\n",
    "To view detailed visualizations and logs of the training process, please visit the [WandB dashboard](https://wandb.ai/david-spannagl/Fine-tuning_phi-1.5_for_Kotlin-code-completion/runs/47pxy4uk) associated with this training run."
   ],
   "id": "511715f73795266d"
  },
  {
   "metadata": {
    "id": "f17f77c3fffaf014"
   },
   "cell_type": "code",
   "source": [
    "# !pip install torch torchvision\n",
    "# !pip install transformers\n",
    "# !pip install datasets\n",
    "# !pip install peft\n",
    "# !pip install bitsandbytes\n",
    "# !pip install accelerate -U\n",
    "# !pip install wandb"
   ],
   "id": "f17f77c3fffaf014",
   "outputs": [],
   "execution_count": null
  },
  {
   "metadata": {
    "id": "f623ea5f8855dc49"
   },
   "cell_type": "code",
   "source": [
    "import torch\n",
    "import requests\n",
    "\n",
    "from transformers import AutoModelForCausalLM, AutoTokenizer, BitsAndBytesConfig, Trainer, TrainingArguments, DataCollatorForLanguageModeling\n",
    "from peft import LoraConfig, get_peft_model\n",
    "from typing import Callable"
   ],
   "id": "f623ea5f8855dc49",
   "outputs": [],
   "execution_count": 2
  },
  {
   "metadata": {
    "id": "359c62820667bfc8"
   },
   "cell_type": "code",
   "source": [
    "import wandb\n",
    "wandb.login()"
   ],
   "id": "359c62820667bfc8",
   "outputs": [],
   "execution_count": null
  },
  {
   "metadata": {
    "id": "a2ef6dfbbf1da8df"
   },
   "cell_type": "code",
   "source": [
    "model_id = \"microsoft/phi-1_5\"\n",
    "model_log_dir = \"/content/model/training/output/\"\n",
    "\n",
    "data_url = \"https://raw.githubusercontent.com/DaveS24/KotComplete/main/data/Kotlin/train.jsonl\"\n",
    "dataset_loader_url = \"https://raw.githubusercontent.com/DaveS24/KotComplete/main/src/dataset_loader.py\""
   ],
   "id": "a2ef6dfbbf1da8df",
   "outputs": [],
   "execution_count": 4
  },
  {
   "metadata": {
    "id": "a13daf52960be503"
   },
   "cell_type": "code",
   "source": [
    "response_data_parser = requests.get(dataset_loader_url)\n",
    "dataset_loader_code = response_data_parser.text\n",
    "\n",
    "load_jsonl_from_url: Callable\n",
    "create_and_tokenize_dataset: Callable\n",
    "dataset_summary: Callable\n",
    "\n",
    "exec(dataset_loader_code)"
   ],
   "id": "a13daf52960be503",
   "outputs": [],
   "execution_count": 5
  },
  {
   "metadata": {
    "id": "97d97d9fa8af4e32"
   },
   "cell_type": "code",
   "source": [
    "bnb_config = BitsAndBytesConfig(\n",
    "    load_in_4bit=True,\n",
    "    bnb_4bit_use_double_quant=True,\n",
    "    bnb_4bit_quant_type=\"nf4\",\n",
    "    bnb_4bit_compute_dtype=torch.float16\n",
    ")\n",
    "\n",
    "lora_config = LoraConfig(\n",
    "    r=16,\n",
    "    lora_alpha=16,\n",
    "    target_modules=[\"fc1\", \"fc2\",\"Wqkv\", \"out_proj\"],\n",
    "    lora_dropout=0.05,\n",
    "    bias=\"none\",\n",
    "    task_type=\"CAUSAL_LM\"\n",
    ")"
   ],
   "id": "97d97d9fa8af4e32",
   "outputs": [],
   "execution_count": 6
  },
  {
   "metadata": {
    "id": "e93dcf6226bef41b"
   },
   "cell_type": "code",
   "source": [
    "phi_model = AutoModelForCausalLM.from_pretrained(model_id, quantization_config=bnb_config)\n",
    "phi_model = get_peft_model(phi_model, lora_config)\n",
    "phi_model.print_trainable_parameters()"
   ],
   "id": "e93dcf6226bef41b",
   "outputs": [],
   "execution_count": null
  },
  {
   "metadata": {
    "id": "a3d694388a083810"
   },
   "cell_type": "code",
   "outputs": [],
   "execution_count": null,
   "source": [
    "phi_tokenizer = AutoTokenizer.from_pretrained(model_id)\n",
    "phi_tokenizer.pad_token = phi_tokenizer.eos_token"
   ],
   "id": "a3d694388a083810"
  },
  {
   "metadata": {
    "colab": {
     "base_uri": "https://localhost:8080/"
    },
    "id": "577b7ca257af75cd",
    "outputId": "a0fd9deb-e136-4d52-f153-9d9ec9108654"
   },
   "cell_type": "code",
   "source": [
    "train_data = load_jsonl_from_url(data_url, use_subset=True, subset_ratio=0.25)\n",
    "train_dataset = create_and_tokenize_dataset(train_data, phi_tokenizer)\n",
    "\n",
    "dataset_summary(train_dataset)"
   ],
   "id": "577b7ca257af75cd",
   "outputs": [
    {
     "output_type": "stream",
     "name": "stdout",
     "text": [
      "Dataset Info\n",
      "============\n",
      "Number of samples: 13224\n",
      "Column names: ['input_ids', 'attention_mask', 'labels']\n",
      "Features: {'input_ids': Sequence(feature=Value(dtype='int32', id=None), length=-1, id=None), 'attention_mask': Sequence(feature=Value(dtype='int8', id=None), length=-1, id=None), 'labels': Sequence(feature=Value(dtype='int64', id=None), length=-1, id=None)}\n"
     ]
    }
   ],
   "execution_count": 9
  },
  {
   "metadata": {
    "id": "510755f8c3c11dc7"
   },
   "cell_type": "code",
   "source": [
    "training_args = TrainingArguments(\n",
    "    output_dir=model_log_dir,\n",
    "    per_device_train_batch_size=8,\n",
    "    gradient_accumulation_steps=2,\n",
    "    learning_rate=2e-4,\n",
    "    lr_scheduler_type=\"cosine\",\n",
    "    logging_steps=50,\n",
    "    disable_tqdm=True\n",
    ")\n",
    "\n",
    "trainer = Trainer(\n",
    "    model=phi_model,\n",
    "    args=training_args,\n",
    "    train_dataset=train_dataset,\n",
    "    data_collator=DataCollatorForLanguageModeling(phi_tokenizer, mlm=False)\n",
    ")"
   ],
   "id": "510755f8c3c11dc7",
   "outputs": [],
   "execution_count": 10
  },
  {
   "metadata": {
    "colab": {
     "base_uri": "https://localhost:8080/",
     "height": 450,
     "referenced_widgets": [
      "27dc111c2a92438994f144758d6738c1",
      "9ad0d70eb1564a1795bb04511a023a7d",
      "4b9a819b397e4014905bc54e512197ff",
      "59648a2600f64be2a0e965d3cb65f713",
      "5e9d7303d4754ce794c66b061e22d1c1",
      "52845f14653a44e8b8fa9eab50cb92c2",
      "4a1b842bee17437ba0f43b25aa455a9a",
      "a1b29583e8564218a001cb2dfe16eaf7"
     ]
    },
    "id": "ef49a0dbdf358128",
    "outputId": "123b758b-96f3-4df6-8847-be0699801bb0"
   },
   "cell_type": "code",
   "source": [
    "run = wandb.init(project='Fine-tuning_phi-1.5_for_Kotlin-code-completion', name='kotlin-train', job_type=\"training\", anonymous=\"allow\")\n",
    "\n",
    "trainer.train()\n",
    "\n",
    "run.finish()"
   ],
   "id": "ef49a0dbdf358128",
   "outputs": [
    {
     "output_type": "stream",
     "name": "stdout",
     "text": [
      "{'loss': 2.4513, 'grad_norm': 3.360219955444336, 'learning_rate': 2.535498186973417e-06, 'epoch': 2.782819116757411}\n",
      "{'loss': 2.4199, 'grad_norm': 3.1693801879882812, 'learning_rate': 1.3138137898047965e-06, 'epoch': 2.8433151845130067}\n",
      "{'loss': 2.4279, 'grad_norm': 2.618941307067871, 'learning_rate': 4.88542572549755e-07, 'epoch': 2.9038112522686026}\n",
      "{'loss': 2.3873, 'grad_norm': 3.093620777130127, 'learning_rate': 6.299957250064382e-08, 'epoch': 2.9643073200241985}\n",
      "{'train_runtime': 2986.5611, 'train_samples_per_second': 13.284, 'train_steps_per_second': 0.83, 'train_loss': 2.708823637388905, 'epoch': 2.9981851179673322}\n"
     ]
    },
    {
     "output_type": "display_data",
     "data": {
      "text/plain": [
       "VBox(children=(Label(value='0.001 MB of 0.001 MB uploaded\\r'), FloatProgress(value=1.0, max=1.0)))"
      ],
      "application/vnd.jupyter.widget-view+json": {
       "version_major": 2,
       "version_minor": 0,
       "model_id": "27dc111c2a92438994f144758d6738c1"
      }
     },
     "metadata": {}
    },
    {
     "output_type": "display_data",
     "data": {
      "text/plain": [
       "<IPython.core.display.HTML object>"
      ],
      "text/html": [
       "<style>\n",
       "    table.wandb td:nth-child(1) { padding: 0 10px; text-align: left ; width: auto;} td:nth-child(2) {text-align: left ; width: 100%}\n",
       "    .wandb-row { display: flex; flex-direction: row; flex-wrap: wrap; justify-content: flex-start; width: 100% }\n",
       "    .wandb-col { display: flex; flex-direction: column; flex-basis: 100%; flex: 1; padding: 10px; }\n",
       "    </style>\n",
       "<div class=\"wandb-row\"><div class=\"wandb-col\"><h3>Run history:</h3><br/><table class=\"wandb\"><tr><td>train/epoch</td><td>▁▁▁▁▂▂▂▂▂▃▃▃▃▃▃▄▄▄▄▄▅▅▅▅▅▅▆▆▆▆▆▆▇▇▇▇▇███</td></tr><tr><td>train/global_step</td><td>▁▁▁▁▂▂▂▂▂▃▃▃▃▃▃▄▄▄▄▄▅▅▅▅▅▅▆▆▆▆▆▆▇▇▇▇▇███</td></tr><tr><td>train/grad_norm</td><td>▂▃▁▄▃▃▄▃▁▃▂▃▃▃▃▄▅▇▅▃▅▅▄▄▃▄▅▆▆▆▄▅▅▆▅█▅▇▇▇</td></tr><tr><td>train/learning_rate</td><td>███████▇▇▇▇▇▇▆▆▆▆▅▅▅▄▄▄▄▃▃▃▃▂▂▂▂▂▂▁▁▁▁▁▁</td></tr><tr><td>train/loss</td><td>█▅▄▄▅▄▄▄▄▃▄▃▃▃▃▃▃▃▃▂▂▂▂▃▂▂▂▁▂▁▁▁▁▁▁▂▂▂▁▁</td></tr></table><br/></div><div class=\"wandb-col\"><h3>Run summary:</h3><br/><table class=\"wandb\"><tr><td>total_flos</td><td>4.651877505171456e+16</td></tr><tr><td>train/epoch</td><td>2.99819</td></tr><tr><td>train/global_step</td><td>2478</td></tr><tr><td>train/grad_norm</td><td>3.09362</td></tr><tr><td>train/learning_rate</td><td>0.0</td></tr><tr><td>train/loss</td><td>2.3873</td></tr><tr><td>train_loss</td><td>2.70882</td></tr><tr><td>train_runtime</td><td>2986.5611</td></tr><tr><td>train_samples_per_second</td><td>13.284</td></tr><tr><td>train_steps_per_second</td><td>0.83</td></tr></table><br/></div></div>"
      ]
     },
     "metadata": {}
    },
    {
     "output_type": "display_data",
     "data": {
      "text/plain": [
       "<IPython.core.display.HTML object>"
      ],
      "text/html": [
       " View run <strong style=\"color:#cdcd00\">kotlin-train</strong> at: <a href='https://wandb.ai/david-spannagl/Fine-tuning_phi-1.5_for_Kotlin-code-completion/runs/47pxy4uk' target=\"_blank\">https://wandb.ai/david-spannagl/Fine-tuning_phi-1.5_for_Kotlin-code-completion/runs/47pxy4uk</a><br/> View project at: <a href='https://wandb.ai/david-spannagl/Fine-tuning_phi-1.5_for_Kotlin-code-completion' target=\"_blank\">https://wandb.ai/david-spannagl/Fine-tuning_phi-1.5_for_Kotlin-code-completion</a><br/>Synced 5 W&B file(s), 0 media file(s), 0 artifact file(s) and 0 other file(s)"
      ]
     },
     "metadata": {}
    },
    {
     "output_type": "display_data",
     "data": {
      "text/plain": [
       "<IPython.core.display.HTML object>"
      ],
      "text/html": [
       "Find logs at: <code>./wandb/run-20240505_142231-47pxy4uk/logs</code>"
      ]
     },
     "metadata": {}
    }
   ],
   "execution_count": 11
  },
  {
   "metadata": {
    "id": "3a7366236a35a612"
   },
   "cell_type": "code",
   "source": [
    "# from google.colab import drive\n",
    "# drive.mount('/content/drive')\n",
    "\n",
    "# model_save_dir = \"/content/drive/My Drive/Trained_Models/Phi-1.5/\"\n",
    "# trainer.save_model(model_save_dir)"
   ],
   "id": "3a7366236a35a612",
   "outputs": [],
   "execution_count": null
  }
 ],
 "metadata": {
  "kernelspec": {
   "display_name": "Python 3",
   "name": "python3"
  },
  "language_info": {
   "codemirror_mode": {
    "name": "ipython",
    "version": 2
   },
   "file_extension": ".py",
   "mimetype": "text/x-python",
   "name": "python",
   "nbconvert_exporter": "python",
   "pygments_lexer": "ipython2",
   "version": "2.7.6"
  },
  "colab": {
   "provenance": [],
   "gpuType": "T4"
  },
  "accelerator": "GPU",
  "widgets": {
   "application/vnd.jupyter.widget-state+json": {
    "27dc111c2a92438994f144758d6738c1": {
     "model_module": "@jupyter-widgets/controls",
     "model_name": "VBoxModel",
     "model_module_version": "1.5.0",
     "state": {
      "_dom_classes": [],
      "_model_module": "@jupyter-widgets/controls",
      "_model_module_version": "1.5.0",
      "_model_name": "VBoxModel",
      "_view_count": null,
      "_view_module": "@jupyter-widgets/controls",
      "_view_module_version": "1.5.0",
      "_view_name": "VBoxView",
      "box_style": "",
      "children": [
       "IPY_MODEL_9ad0d70eb1564a1795bb04511a023a7d",
       "IPY_MODEL_4b9a819b397e4014905bc54e512197ff"
      ],
      "layout": "IPY_MODEL_59648a2600f64be2a0e965d3cb65f713"
     }
    },
    "9ad0d70eb1564a1795bb04511a023a7d": {
     "model_module": "@jupyter-widgets/controls",
     "model_name": "LabelModel",
     "model_module_version": "1.5.0",
     "state": {
      "_dom_classes": [],
      "_model_module": "@jupyter-widgets/controls",
      "_model_module_version": "1.5.0",
      "_model_name": "LabelModel",
      "_view_count": null,
      "_view_module": "@jupyter-widgets/controls",
      "_view_module_version": "1.5.0",
      "_view_name": "LabelView",
      "description": "",
      "description_tooltip": null,
      "layout": "IPY_MODEL_5e9d7303d4754ce794c66b061e22d1c1",
      "placeholder": "​",
      "style": "IPY_MODEL_52845f14653a44e8b8fa9eab50cb92c2",
      "value": "0.028 MB of 0.028 MB uploaded\r"
     }
    },
    "4b9a819b397e4014905bc54e512197ff": {
     "model_module": "@jupyter-widgets/controls",
     "model_name": "FloatProgressModel",
     "model_module_version": "1.5.0",
     "state": {
      "_dom_classes": [],
      "_model_module": "@jupyter-widgets/controls",
      "_model_module_version": "1.5.0",
      "_model_name": "FloatProgressModel",
      "_view_count": null,
      "_view_module": "@jupyter-widgets/controls",
      "_view_module_version": "1.5.0",
      "_view_name": "ProgressView",
      "bar_style": "",
      "description": "",
      "description_tooltip": null,
      "layout": "IPY_MODEL_4a1b842bee17437ba0f43b25aa455a9a",
      "max": 1,
      "min": 0,
      "orientation": "horizontal",
      "style": "IPY_MODEL_a1b29583e8564218a001cb2dfe16eaf7",
      "value": 1
     }
    },
    "59648a2600f64be2a0e965d3cb65f713": {
     "model_module": "@jupyter-widgets/base",
     "model_name": "LayoutModel",
     "model_module_version": "1.2.0",
     "state": {
      "_model_module": "@jupyter-widgets/base",
      "_model_module_version": "1.2.0",
      "_model_name": "LayoutModel",
      "_view_count": null,
      "_view_module": "@jupyter-widgets/base",
      "_view_module_version": "1.2.0",
      "_view_name": "LayoutView",
      "align_content": null,
      "align_items": null,
      "align_self": null,
      "border": null,
      "bottom": null,
      "display": null,
      "flex": null,
      "flex_flow": null,
      "grid_area": null,
      "grid_auto_columns": null,
      "grid_auto_flow": null,
      "grid_auto_rows": null,
      "grid_column": null,
      "grid_gap": null,
      "grid_row": null,
      "grid_template_areas": null,
      "grid_template_columns": null,
      "grid_template_rows": null,
      "height": null,
      "justify_content": null,
      "justify_items": null,
      "left": null,
      "margin": null,
      "max_height": null,
      "max_width": null,
      "min_height": null,
      "min_width": null,
      "object_fit": null,
      "object_position": null,
      "order": null,
      "overflow": null,
      "overflow_x": null,
      "overflow_y": null,
      "padding": null,
      "right": null,
      "top": null,
      "visibility": null,
      "width": null
     }
    },
    "5e9d7303d4754ce794c66b061e22d1c1": {
     "model_module": "@jupyter-widgets/base",
     "model_name": "LayoutModel",
     "model_module_version": "1.2.0",
     "state": {
      "_model_module": "@jupyter-widgets/base",
      "_model_module_version": "1.2.0",
      "_model_name": "LayoutModel",
      "_view_count": null,
      "_view_module": "@jupyter-widgets/base",
      "_view_module_version": "1.2.0",
      "_view_name": "LayoutView",
      "align_content": null,
      "align_items": null,
      "align_self": null,
      "border": null,
      "bottom": null,
      "display": null,
      "flex": null,
      "flex_flow": null,
      "grid_area": null,
      "grid_auto_columns": null,
      "grid_auto_flow": null,
      "grid_auto_rows": null,
      "grid_column": null,
      "grid_gap": null,
      "grid_row": null,
      "grid_template_areas": null,
      "grid_template_columns": null,
      "grid_template_rows": null,
      "height": null,
      "justify_content": null,
      "justify_items": null,
      "left": null,
      "margin": null,
      "max_height": null,
      "max_width": null,
      "min_height": null,
      "min_width": null,
      "object_fit": null,
      "object_position": null,
      "order": null,
      "overflow": null,
      "overflow_x": null,
      "overflow_y": null,
      "padding": null,
      "right": null,
      "top": null,
      "visibility": null,
      "width": null
     }
    },
    "52845f14653a44e8b8fa9eab50cb92c2": {
     "model_module": "@jupyter-widgets/controls",
     "model_name": "DescriptionStyleModel",
     "model_module_version": "1.5.0",
     "state": {
      "_model_module": "@jupyter-widgets/controls",
      "_model_module_version": "1.5.0",
      "_model_name": "DescriptionStyleModel",
      "_view_count": null,
      "_view_module": "@jupyter-widgets/base",
      "_view_module_version": "1.2.0",
      "_view_name": "StyleView",
      "description_width": ""
     }
    },
    "4a1b842bee17437ba0f43b25aa455a9a": {
     "model_module": "@jupyter-widgets/base",
     "model_name": "LayoutModel",
     "model_module_version": "1.2.0",
     "state": {
      "_model_module": "@jupyter-widgets/base",
      "_model_module_version": "1.2.0",
      "_model_name": "LayoutModel",
      "_view_count": null,
      "_view_module": "@jupyter-widgets/base",
      "_view_module_version": "1.2.0",
      "_view_name": "LayoutView",
      "align_content": null,
      "align_items": null,
      "align_self": null,
      "border": null,
      "bottom": null,
      "display": null,
      "flex": null,
      "flex_flow": null,
      "grid_area": null,
      "grid_auto_columns": null,
      "grid_auto_flow": null,
      "grid_auto_rows": null,
      "grid_column": null,
      "grid_gap": null,
      "grid_row": null,
      "grid_template_areas": null,
      "grid_template_columns": null,
      "grid_template_rows": null,
      "height": null,
      "justify_content": null,
      "justify_items": null,
      "left": null,
      "margin": null,
      "max_height": null,
      "max_width": null,
      "min_height": null,
      "min_width": null,
      "object_fit": null,
      "object_position": null,
      "order": null,
      "overflow": null,
      "overflow_x": null,
      "overflow_y": null,
      "padding": null,
      "right": null,
      "top": null,
      "visibility": null,
      "width": null
     }
    },
    "a1b29583e8564218a001cb2dfe16eaf7": {
     "model_module": "@jupyter-widgets/controls",
     "model_name": "ProgressStyleModel",
     "model_module_version": "1.5.0",
     "state": {
      "_model_module": "@jupyter-widgets/controls",
      "_model_module_version": "1.5.0",
      "_model_name": "ProgressStyleModel",
      "_view_count": null,
      "_view_module": "@jupyter-widgets/base",
      "_view_module_version": "1.2.0",
      "_view_name": "StyleView",
      "bar_color": null,
      "description_width": ""
     }
    }
   }
  }
 },
 "nbformat": 4,
 "nbformat_minor": 5
}
