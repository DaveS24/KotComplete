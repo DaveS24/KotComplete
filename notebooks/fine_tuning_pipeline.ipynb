{
 "cells": [
  {
   "metadata": {},
   "cell_type": "markdown",
   "source": [
    "The trained model is saved in Google Drive at the following location: [Trained_Models](https://drive.google.com/drive/folders/1F1zcr6L9NhoKbQVZEBYnRluLWs6jprRf?usp=sharing)\n",
    "\n",
    "To view detailed visualizations and logs of the training process, please visit the [WandB dashboard](https://wandb.ai/david-spannagl/Fine-tuning_phi-1.5_for_Kotlin-code-completion/kotlin-train) associated with this training run."
   ],
   "id": "511715f73795266d"
  },
  {
   "metadata": {},
   "cell_type": "code",
   "source": [
    "# !pip install torch torchvision\n",
    "# !pip install transformers\n",
    "# !pip install datasets\n",
    "# !pip install peft\n",
    "# !pip install bitsandbytes\n",
    "# !pip install accelerate -U\n",
    "# !pip install wandb"
   ],
   "id": "f17f77c3fffaf014",
   "outputs": [],
   "execution_count": null
  },
  {
   "metadata": {},
   "cell_type": "code",
   "source": [
    "import torch\n",
    "import requests\n",
    "\n",
    "from transformers import AutoModelForCausalLM, AutoTokenizer, BitsAndBytesConfig, Trainer, TrainingArguments, DataCollatorForLanguageModeling\n",
    "from peft import LoraConfig, get_peft_model\n",
    "from typing import Callable"
   ],
   "id": "f623ea5f8855dc49",
   "outputs": [],
   "execution_count": null
  },
  {
   "metadata": {},
   "cell_type": "code",
   "source": [
    "import wandb\n",
    "wandb.login()"
   ],
   "id": "359c62820667bfc8",
   "outputs": [],
   "execution_count": null
  },
  {
   "metadata": {},
   "cell_type": "code",
   "source": [
    "model_id = \"microsoft/phi-1_5\"\n",
    "model_log_dir = \"/content/model/training/output/\"\n",
    "\n",
    "data_url = \"https://raw.githubusercontent.com/DaveS24/KotComplete/main/data/Kotlin/train.jsonl\"\n",
    "dataset_loader_url = \"https://raw.githubusercontent.com/DaveS24/KotComplete/main/src/dataset_loader.py\""
   ],
   "id": "a2ef6dfbbf1da8df",
   "outputs": [],
   "execution_count": null
  },
  {
   "metadata": {},
   "cell_type": "code",
   "source": [
    "response_data_parser = requests.get(dataset_loader_url)\n",
    "dataset_loader_code = response_data_parser.text\n",
    "\n",
    "load_jsonl_from_url: Callable\n",
    "create_and_tokenize_dataset: Callable\n",
    "dataset_summary: Callable\n",
    "\n",
    "exec(dataset_loader_code)"
   ],
   "id": "a13daf52960be503",
   "outputs": [],
   "execution_count": null
  },
  {
   "metadata": {},
   "cell_type": "code",
   "source": [
    "bnb_config = BitsAndBytesConfig(\n",
    "    load_in_4bit=True,\n",
    "    bnb_4bit_use_double_quant=True,\n",
    "    bnb_4bit_quant_type=\"nf4\",\n",
    "    bnb_4bit_compute_dtype=torch.float16\n",
    ")\n",
    "\n",
    "lora_config = LoraConfig(\n",
    "    r=16,\n",
    "    lora_alpha=16,\n",
    "    target_modules=[\"fc1\", \"fc2\",\"Wqkv\", \"out_proj\"],\n",
    "    lora_dropout=0.05,\n",
    "    bias=\"none\",\n",
    "    task_type=\"CAUSAL_LM\"\n",
    ")"
   ],
   "id": "97d97d9fa8af4e32",
   "outputs": [],
   "execution_count": null
  },
  {
   "metadata": {},
   "cell_type": "code",
   "source": [
    "phi_model = AutoModelForCausalLM.from_pretrained(model_id, quantization_config=bnb_config)\n",
    "phi_model = get_peft_model(phi_model, lora_config)\n",
    "phi_model.print_trainable_parameters()"
   ],
   "id": "e93dcf6226bef41b",
   "outputs": [],
   "execution_count": null
  },
  {
   "metadata": {},
   "cell_type": "code",
   "outputs": [],
   "execution_count": null,
   "source": [
    "phi_tokenizer = AutoTokenizer.from_pretrained(model_id)\n",
    "phi_tokenizer.pad_token = phi_tokenizer.eos_token"
   ],
   "id": "a3d694388a083810"
  },
  {
   "metadata": {},
   "cell_type": "code",
   "source": [
    "train_data = load_jsonl_from_url(data_url, use_subset=True, subset_ratio=0.25)\n",
    "train_dataset = create_and_tokenize_dataset(train_data, phi_tokenizer)\n",
    "\n",
    "dataset_summary(train_dataset)"
   ],
   "id": "577b7ca257af75cd",
   "outputs": [],
   "execution_count": null
  },
  {
   "metadata": {},
   "cell_type": "code",
   "source": [
    "training_args = TrainingArguments(\n",
    "    output_dir=model_log_dir,\n",
    "    per_device_train_batch_size=8,\n",
    "    gradient_accumulation_steps=2,\n",
    "    learning_rate=2e-4,\n",
    "    lr_scheduler_type=\"cosine\",\n",
    "    logging_steps=50\n",
    ")\n",
    "\n",
    "trainer = Trainer(\n",
    "    model=phi_model,\n",
    "    args=training_args,\n",
    "    train_dataset=train_dataset,\n",
    "    data_collator=DataCollatorForLanguageModeling(phi_tokenizer, mlm=False)\n",
    ")"
   ],
   "id": "510755f8c3c11dc7",
   "outputs": [],
   "execution_count": null
  },
  {
   "metadata": {},
   "cell_type": "code",
   "source": [
    "run = wandb.init(project='Fine-tuning_phi-1.5_for_Kotlin-code-completion', name='kotlin-train', job_type=\"training\", anonymous=\"allow\")\n",
    "\n",
    "trainer.train()\n",
    "\n",
    "run.finish()"
   ],
   "id": "ef49a0dbdf358128",
   "outputs": [],
   "execution_count": null
  },
  {
   "metadata": {},
   "cell_type": "code",
   "source": [
    "# from google.colab import drive\n",
    "# drive.mount('/content/drive')\n",
    "\n",
    "# model_save_dir = \"/content/drive/My Drive/Trained_Models/Phi-1.5/\"\n",
    "# trainer.save_model(model_save_dir)"
   ],
   "id": "3a7366236a35a612",
   "outputs": [],
   "execution_count": null
  }
 ],
 "metadata": {
  "kernelspec": {
   "display_name": "Python 3",
   "language": "python",
   "name": "python3"
  },
  "language_info": {
   "codemirror_mode": {
    "name": "ipython",
    "version": 2
   },
   "file_extension": ".py",
   "mimetype": "text/x-python",
   "name": "python",
   "nbconvert_exporter": "python",
   "pygments_lexer": "ipython2",
   "version": "2.7.6"
  }
 },
 "nbformat": 4,
 "nbformat_minor": 5
}
