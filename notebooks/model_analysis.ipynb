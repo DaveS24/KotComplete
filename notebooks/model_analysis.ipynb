{
 "cells": [
  {
   "metadata": {},
   "cell_type": "code",
   "outputs": [],
   "execution_count": null,
   "source": [
    "# !pip install transformers\n",
    "# !pip install datasets\n",
    "# !pip install accelerate -U\n",
    "# !pip install wandb"
   ],
   "id": "c4bf413c9d341df3"
  },
  {
   "metadata": {},
   "cell_type": "code",
   "outputs": [],
   "execution_count": null,
   "source": [
    "import requests\n",
    "\n",
    "from transformers import AutoModelForCausalLM, AutoTokenizer, Trainer, TrainingArguments, DataCollatorForLanguageModeling\n",
    "from typing import Callable"
   ],
   "id": "ee763e6559b046be"
  },
  {
   "metadata": {},
   "cell_type": "code",
   "outputs": [],
   "execution_count": null,
   "source": [
    "import wandb\n",
    "\n",
    "wandb.login()\n",
    "run = wandb.init(project='Evaluating phi-1.5 for Kotlin code completion', job_type='eval', anonymous='allow')"
   ],
   "id": "488ce6ae0ecb7445"
  },
  {
   "cell_type": "code",
   "execution_count": null,
   "id": "initial_id",
   "metadata": {
    "collapsed": true
   },
   "outputs": [],
   "source": [
    "model_id = \"microsoft/phi-1_5\"\n",
    "kotlin_data_url = \"https://raw.githubusercontent.com/DaveS24/KotComplete/main/data/Kotlin/test.jsonl\"\n",
    "codexglue_data_url = \"https://raw.githubusercontent.com/DaveS24/KotComplete/main/data/CodeXGLUE/test.jsonl\"\n",
    "dataset_loader_url = \"https://raw.githubusercontent.com/DaveS24/KotComplete/main/src/dataset_loader.py\"\n",
    "\n",
    "model_log_dir = \"/content/model/testing/\""
   ]
  },
  {
   "metadata": {},
   "cell_type": "code",
   "outputs": [],
   "execution_count": null,
   "source": [
    "response_data_parser = requests.get(dataset_loader_url)\n",
    "dataset_loader_code = response_data_parser.text\n",
    "\n",
    "load_jsonl_from_url: Callable\n",
    "create_and_tokenize_dataset: Callable\n",
    "dataset_summary: Callable\n",
    "\n",
    "exec(dataset_loader_code)"
   ],
   "id": "8cbce7374415a386"
  },
  {
   "metadata": {},
   "cell_type": "code",
   "outputs": [],
   "execution_count": null,
   "source": [
    "phi_tokenizer = AutoTokenizer.from_pretrained(model_id)\n",
    "phi_tokenizer.pad_token = phi_tokenizer.eos_token"
   ],
   "id": "6092ee0237c793a9"
  },
  {
   "metadata": {},
   "cell_type": "code",
   "outputs": [],
   "execution_count": null,
   "source": [
    "kotlin_test_data = load_jsonl_from_url(kotlin_data_url, use_subset=True, subset_ratio=0.25)\n",
    "kotlin_test_dataset = create_and_tokenize_dataset(kotlin_test_data, phi_tokenizer)\n",
    "\n",
    "dataset_summary(kotlin_test_dataset)"
   ],
   "id": "b3bc20d3e38463a3"
  },
  {
   "metadata": {},
   "cell_type": "code",
   "outputs": [],
   "execution_count": null,
   "source": [
    "codexglue_test_data = load_jsonl_from_url(codexglue_data_url, use_subset=True, subset_ratio=0.25)\n",
    "codexglue_test_dataset = create_and_tokenize_dataset(codexglue_test_data, phi_tokenizer)\n",
    "\n",
    "dataset_summary(codexglue_test_dataset)"
   ],
   "id": "f74e1b78baad7242"
  },
  {
   "metadata": {},
   "cell_type": "code",
   "outputs": [],
   "execution_count": null,
   "source": [
    "base_phi_model = AutoModelForCausalLM.from_pretrained(model_id)\n",
    "\n",
    "base_training_args = TrainingArguments(\n",
    "    output_dir=model_log_dir + 'base/output/',\n",
    "    per_device_eval_batch_size=8,\n",
    "    evaluation_strategy=\"steps\"\n",
    ")\n",
    "\n",
    "base_trainer = Trainer(\n",
    "    model=base_phi_model,\n",
    "    args=base_training_args,\n",
    "    data_collator=DataCollatorForLanguageModeling(tokenizer=phi_tokenizer, mlm=False)\n",
    ")"
   ],
   "id": "65a76ac4c7cd801e"
  },
  {
   "metadata": {},
   "cell_type": "code",
   "outputs": [],
   "execution_count": null,
   "source": "base_trainer.evaluate(eval_dataset=kotlin_test_dataset)",
   "id": "92f208d05ed9fd43"
  },
  {
   "metadata": {},
   "cell_type": "code",
   "outputs": [],
   "execution_count": null,
   "source": "base_trainer.evaluate(eval_dataset=codexglue_test_dataset)",
   "id": "3d1fbe0adb217ea6"
  },
  {
   "metadata": {},
   "cell_type": "code",
   "outputs": [],
   "execution_count": null,
   "source": [
    "tuned_phi_model = AutoModelForCausalLM.from_pretrained(\"LOADING FROM GOOGLE DRIVE LINK\")\n",
    "\n",
    "tuned_training_args = TrainingArguments(\n",
    "    output_dir=model_log_dir + 'tuned/output/',\n",
    "    per_device_eval_batch_size=8,\n",
    "    evaluation_strategy=\"steps\"\n",
    ")\n",
    "\n",
    "tuned_trainer = Trainer(\n",
    "    model=tuned_phi_model,\n",
    "    args=tuned_training_args,\n",
    "    data_collator=DataCollatorForLanguageModeling(tokenizer=phi_tokenizer, mlm=False)\n",
    ")"
   ],
   "id": "1a7027f22ee877e6"
  },
  {
   "metadata": {},
   "cell_type": "code",
   "outputs": [],
   "execution_count": null,
   "source": "tuned_trainer.evaluate(eval_dataset=kotlin_test_dataset)",
   "id": "551ccc4fe77c44a8"
  },
  {
   "metadata": {},
   "cell_type": "code",
   "outputs": [],
   "execution_count": null,
   "source": "tuned_trainer.evaluate(eval_dataset=codexglue_test_dataset)",
   "id": "1d24953194d8879a"
  }
 ],
 "metadata": {
  "kernelspec": {
   "display_name": "Python 3",
   "language": "python",
   "name": "python3"
  },
  "language_info": {
   "codemirror_mode": {
    "name": "ipython",
    "version": 2
   },
   "file_extension": ".py",
   "mimetype": "text/x-python",
   "name": "python",
   "nbconvert_exporter": "python",
   "pygments_lexer": "ipython2",
   "version": "2.7.6"
  }
 },
 "nbformat": 4,
 "nbformat_minor": 5
}
