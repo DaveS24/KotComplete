{
  "cells": [
    {
      "metadata": {
        "id": "af8b2f335096b728"
      },
      "cell_type": "markdown",
      "source": [
        "To view detailed visualizations and logs of the evaluations, please visit the [WandB dashboard](https://wandb.ai/david-spannagl/Evaluating_phi-1.5_for_Kotlin-code-completion) associated with this project."
      ],
      "id": "af8b2f335096b728"
    },
    {
      "metadata": {
        "id": "c4bf413c9d341df3"
      },
      "cell_type": "code",
      "source": [
        "!pip install torch torchvision\n",
        "!pip install transformers\n",
        "!pip install datasets\n",
        "!pip install peft\n",
        "!pip install bitsandbytes\n",
        "!pip install accelerate -U\n",
        "!pip install wandb"
      ],
      "id": "c4bf413c9d341df3",
      "outputs": [],
      "execution_count": null
    },
    {
      "metadata": {
        "id": "ee763e6559b046be"
      },
      "cell_type": "code",
      "source": [
        "import os\n",
        "import torch\n",
        "import requests\n",
        "\n",
        "from transformers import AutoModelForCausalLM, AutoTokenizer, BitsAndBytesConfig, Trainer, TrainingArguments, DataCollatorForLanguageModeling\n",
        "from peft import LoraConfig, get_peft_model\n",
        "from typing import Callable"
      ],
      "id": "ee763e6559b046be",
      "outputs": [],
      "execution_count": 2
    },
    {
      "metadata": {
        "id": "488ce6ae0ecb7445"
      },
      "cell_type": "code",
      "source": [
        "import wandb\n",
        "wandb.login()"
      ],
      "id": "488ce6ae0ecb7445",
      "outputs": [],
      "execution_count": null
    },
    {
      "cell_type": "code",
      "id": "initial_id",
      "metadata": {
        "collapsed": true,
        "id": "initial_id"
      },
      "source": [
        "base_model_id = \"microsoft/phi-1_5\"\n",
        "github_base_url = \"https://raw.githubusercontent.com/DaveS24/KotComplete/main/\"\n",
        "\n",
        "tuned_model_config = github_base_url + \"model/adapter_config.json\"\n",
        "tuned_model_weights = github_base_url + \"model/adapter_model.safetensors\"\n",
        "tuned_model_training_args = github_base_url + \"model/training_args.bin\"\n",
        "\n",
        "tuned_model_path = \"/content/model/pre-trained/\"\n",
        "model_log_dir = \"/content/model/log/testing/\"\n",
        "\n",
        "kotlin_data_url = github_base_url + \"data/Kotlin/test.jsonl\"\n",
        "codexglue_data_url = github_base_url + \"data/CodeXGLUE/test.jsonl\"\n",
        "dataset_loader_url = github_base_url + \"src/dataset_loader.py\""
      ],
      "outputs": [],
      "execution_count": 4
    },
    {
      "metadata": {
        "id": "8ce1a30941232274"
      },
      "cell_type": "code",
      "outputs": [],
      "execution_count": 5,
      "source": [
        "response_config = requests.get(tuned_model_config)\n",
        "response_weights = requests.get(tuned_model_weights)\n",
        "response_training_args = requests.get(tuned_model_training_args)\n",
        "\n",
        "os.makedirs(tuned_model_path, exist_ok=True)\n",
        "\n",
        "with open(tuned_model_path + \"adapter_config.json\", 'wb') as file:\n",
        "    file.write(response_config.content)\n",
        "\n",
        "with open(tuned_model_path + \"adapter_model.safetensors\", 'wb') as file:\n",
        "    file.write(response_weights.content)\n",
        "\n",
        "with open(tuned_model_path + \"training_args.bin\", 'wb') as file:\n",
        "    file.write(response_training_args.content)"
      ],
      "id": "8ce1a30941232274"
    },
    {
      "metadata": {
        "id": "8cbce7374415a386"
      },
      "cell_type": "code",
      "source": [
        "response_data_parser = requests.get(dataset_loader_url)\n",
        "dataset_loader_code = response_data_parser.text\n",
        "\n",
        "load_jsonl_from_url: Callable\n",
        "create_and_tokenize_dataset: Callable\n",
        "dataset_summary: Callable\n",
        "\n",
        "exec(dataset_loader_code)"
      ],
      "id": "8cbce7374415a386",
      "outputs": [],
      "execution_count": 6
    },
    {
      "metadata": {
        "id": "97d172db9d2e85d5"
      },
      "cell_type": "code",
      "source": [
        "bnb_config = BitsAndBytesConfig(\n",
        "    load_in_4bit=True,\n",
        "    bnb_4bit_use_double_quant=True,\n",
        "    bnb_4bit_quant_type=\"nf4\",\n",
        "    bnb_4bit_compute_dtype=torch.float16\n",
        ")\n",
        "\n",
        "lora_config = LoraConfig(\n",
        "    r=16,\n",
        "    lora_alpha=16,\n",
        "    target_modules=[\"fc1\", \"fc2\", \"Wqkv\", \"out_proj\"],\n",
        "    lora_dropout=0.05,\n",
        "    bias=\"none\",\n",
        "    task_type=\"CAUSAL_LM\"\n",
        ")"
      ],
      "id": "97d172db9d2e85d5",
      "outputs": [],
      "execution_count": 7
    },
    {
      "metadata": {
        "id": "8428dd69c431b007"
      },
      "cell_type": "code",
      "source": [
        "base_phi_model = AutoModelForCausalLM.from_pretrained(base_model_id, quantization_config=bnb_config)\n",
        "base_phi_model = get_peft_model(base_phi_model, lora_config)\n",
        "base_phi_model.print_trainable_parameters()"
      ],
      "id": "8428dd69c431b007",
      "outputs": [],
      "execution_count": null
    },
    {
      "metadata": {
        "id": "7441e594c38ee669"
      },
      "cell_type": "code",
      "source": [
        "tuned_phi_model = AutoModelForCausalLM.from_pretrained(tuned_model_path, quantization_config=bnb_config)\n",
        "tuned_phi_model = get_peft_model(tuned_phi_model, lora_config)\n",
        "tuned_phi_model.print_trainable_parameters()"
      ],
      "id": "7441e594c38ee669",
      "outputs": [],
      "execution_count": null
    },
    {
      "metadata": {
        "id": "6092ee0237c793a9"
      },
      "cell_type": "code",
      "source": [
        "phi_tokenizer = AutoTokenizer.from_pretrained(base_model_id)\n",
        "phi_tokenizer.pad_token = phi_tokenizer.eos_token"
      ],
      "id": "6092ee0237c793a9",
      "outputs": [],
      "execution_count": null
    },
    {
      "metadata": {
        "colab": {
          "base_uri": "https://localhost:8080/"
        },
        "id": "b3bc20d3e38463a3",
        "outputId": "dc56adb9-f289-4a56-ea28-14dfc2505163"
      },
      "cell_type": "code",
      "source": [
        "kotlin_test_data = load_jsonl_from_url(kotlin_data_url, use_subset=True, subset_ratio=0.25)\n",
        "kotlin_test_dataset = create_and_tokenize_dataset(kotlin_test_data, phi_tokenizer)\n",
        "\n",
        "dataset_summary(kotlin_test_dataset)"
      ],
      "id": "b3bc20d3e38463a3",
      "outputs": [
        {
          "output_type": "stream",
          "name": "stdout",
          "text": [
            "Dataset Info\n",
            "============\n",
            "Number of samples: 3306\n",
            "Column names: ['input_ids', 'attention_mask', 'labels']\n",
            "Features: {'input_ids': Sequence(feature=Value(dtype='int32', id=None), length=-1, id=None), 'attention_mask': Sequence(feature=Value(dtype='int8', id=None), length=-1, id=None), 'labels': Sequence(feature=Value(dtype='int64', id=None), length=-1, id=None)}\n"
          ]
        }
      ],
      "execution_count": 11
    },
    {
      "metadata": {
        "colab": {
          "base_uri": "https://localhost:8080/"
        },
        "id": "f74e1b78baad7242",
        "outputId": "3091a598-97e7-47de-ee2e-d78f40857e0f"
      },
      "cell_type": "code",
      "source": [
        "codexglue_test_data = load_jsonl_from_url(codexglue_data_url, use_subset=True, subset_ratio=0.25)\n",
        "codexglue_test_dataset = create_and_tokenize_dataset(codexglue_test_data, phi_tokenizer)\n",
        "\n",
        "dataset_summary(codexglue_test_dataset)"
      ],
      "id": "f74e1b78baad7242",
      "outputs": [
        {
          "output_type": "stream",
          "name": "stdout",
          "text": [
            "Dataset Info\n",
            "============\n",
            "Number of samples: 5000\n",
            "Column names: ['input_ids', 'attention_mask', 'labels']\n",
            "Features: {'input_ids': Sequence(feature=Value(dtype='int32', id=None), length=-1, id=None), 'attention_mask': Sequence(feature=Value(dtype='int8', id=None), length=-1, id=None), 'labels': Sequence(feature=Value(dtype='int64', id=None), length=-1, id=None)}\n"
          ]
        }
      ],
      "execution_count": 12
    },
    {
      "metadata": {
        "id": "65a76ac4c7cd801e"
      },
      "cell_type": "code",
      "source": [
        "base_training_args = TrainingArguments(\n",
        "    output_dir=model_log_dir + 'base/output/',\n",
        "    per_device_eval_batch_size=8,\n",
        "    evaluation_strategy=\"steps\",\n",
        "    disable_tqdm=True\n",
        ")\n",
        "\n",
        "base_trainer = Trainer(\n",
        "    model=base_phi_model,\n",
        "    args=base_training_args,\n",
        "    data_collator=DataCollatorForLanguageModeling(tokenizer=phi_tokenizer, mlm=False)\n",
        ")"
      ],
      "id": "65a76ac4c7cd801e",
      "outputs": [],
      "execution_count": 13
    },
    {
      "metadata": {
        "colab": {
          "base_uri": "https://localhost:8080/",
          "height": 408,
          "referenced_widgets": [
            "2d349d99783343e790f75a5e4556a2f6",
            "9766e71820ba41d2b13d94442ff068e2",
            "75bbaf95215146d6806e5497bf7eb414",
            "ef9bf29164f747ee8c62e9824ec37a23",
            "f31a1d42be0842b4afbe3e7c1d5d6e12",
            "58374b9600e5416ea6ea38c537da2a10",
            "9ce89cbdce8940fa8233d81dc0748847",
            "33f36f7e64eb4a8c9fb5a37a5b7a4e54"
          ]
        },
        "id": "92f208d05ed9fd43",
        "outputId": "84b26515-34c1-4336-d063-59b698cd8ccd"
      },
      "cell_type": "code",
      "source": [
        "run_base_kotlin = wandb.init(project='Evaluating_phi-1.5_for_Kotlin-code-completion', name='base_kotlin_test', job_type='eval', anonymous='allow')\n",
        "\n",
        "base_trainer.evaluate(eval_dataset=kotlin_test_dataset)\n",
        "\n",
        "run_base_kotlin.finish()"
      ],
      "id": "92f208d05ed9fd43",
      "outputs": [
        {
          "output_type": "stream",
          "name": "stderr",
          "text": [
            "\u001b[34m\u001b[1mwandb\u001b[0m: Currently logged in as: \u001b[33mdavid-spannagl\u001b[0m. Use \u001b[1m`wandb login --relogin`\u001b[0m to force relogin\n"
          ]
        },
        {
          "output_type": "display_data",
          "data": {
            "text/plain": [
              "<IPython.core.display.HTML object>"
            ],
            "text/html": [
              "Tracking run with wandb version 0.16.6"
            ]
          },
          "metadata": {}
        },
        {
          "output_type": "display_data",
          "data": {
            "text/plain": [
              "<IPython.core.display.HTML object>"
            ],
            "text/html": [
              "Run data is saved locally in <code>/content/wandb/run-20240505_202205-meezrn0h</code>"
            ]
          },
          "metadata": {}
        },
        {
          "output_type": "display_data",
          "data": {
            "text/plain": [
              "<IPython.core.display.HTML object>"
            ],
            "text/html": [
              "Syncing run <strong><a href='https://wandb.ai/david-spannagl/Evaluating_phi-1.5_for_Kotlin-code-completion/runs/meezrn0h' target=\"_blank\">base_kotlin_test</a></strong> to <a href='https://wandb.ai/david-spannagl/Evaluating_phi-1.5_for_Kotlin-code-completion' target=\"_blank\">Weights & Biases</a> (<a href='https://wandb.me/run' target=\"_blank\">docs</a>)<br/>"
            ]
          },
          "metadata": {}
        },
        {
          "output_type": "display_data",
          "data": {
            "text/plain": [
              "<IPython.core.display.HTML object>"
            ],
            "text/html": [
              " View project at <a href='https://wandb.ai/david-spannagl/Evaluating_phi-1.5_for_Kotlin-code-completion' target=\"_blank\">https://wandb.ai/david-spannagl/Evaluating_phi-1.5_for_Kotlin-code-completion</a>"
            ]
          },
          "metadata": {}
        },
        {
          "output_type": "display_data",
          "data": {
            "text/plain": [
              "<IPython.core.display.HTML object>"
            ],
            "text/html": [
              " View run at <a href='https://wandb.ai/david-spannagl/Evaluating_phi-1.5_for_Kotlin-code-completion/runs/meezrn0h' target=\"_blank\">https://wandb.ai/david-spannagl/Evaluating_phi-1.5_for_Kotlin-code-completion/runs/meezrn0h</a>"
            ]
          },
          "metadata": {}
        },
        {
          "output_type": "stream",
          "name": "stdout",
          "text": [
            "{'eval_loss': 5.300319671630859, 'eval_runtime': 139.9988, 'eval_samples_per_second': 23.614, 'eval_steps_per_second': 2.957}\n"
          ]
        },
        {
          "output_type": "display_data",
          "data": {
            "text/plain": [
              "VBox(children=(Label(value='0.001 MB of 0.001 MB uploaded\\r'), FloatProgress(value=1.0, max=1.0)))"
            ],
            "application/vnd.jupyter.widget-view+json": {
              "version_major": 2,
              "version_minor": 0,
              "model_id": "2d349d99783343e790f75a5e4556a2f6"
            }
          },
          "metadata": {}
        },
        {
          "output_type": "display_data",
          "data": {
            "text/plain": [
              "<IPython.core.display.HTML object>"
            ],
            "text/html": [
              "<style>\n",
              "    table.wandb td:nth-child(1) { padding: 0 10px; text-align: left ; width: auto;} td:nth-child(2) {text-align: left ; width: 100%}\n",
              "    .wandb-row { display: flex; flex-direction: row; flex-wrap: wrap; justify-content: flex-start; width: 100% }\n",
              "    .wandb-col { display: flex; flex-direction: column; flex-basis: 100%; flex: 1; padding: 10px; }\n",
              "    </style>\n",
              "<div class=\"wandb-row\"><div class=\"wandb-col\"><h3>Run history:</h3><br/><table class=\"wandb\"><tr><td>eval/loss</td><td>▁</td></tr><tr><td>eval/runtime</td><td>▁</td></tr><tr><td>eval/samples_per_second</td><td>▁</td></tr><tr><td>eval/steps_per_second</td><td>▁</td></tr><tr><td>train/global_step</td><td>▁</td></tr></table><br/></div><div class=\"wandb-col\"><h3>Run summary:</h3><br/><table class=\"wandb\"><tr><td>eval/loss</td><td>5.30032</td></tr><tr><td>eval/runtime</td><td>139.9988</td></tr><tr><td>eval/samples_per_second</td><td>23.614</td></tr><tr><td>eval/steps_per_second</td><td>2.957</td></tr><tr><td>train/global_step</td><td>0</td></tr></table><br/></div></div>"
            ]
          },
          "metadata": {}
        },
        {
          "output_type": "display_data",
          "data": {
            "text/plain": [
              "<IPython.core.display.HTML object>"
            ],
            "text/html": [
              " View run <strong style=\"color:#cdcd00\">base_kotlin_test</strong> at: <a href='https://wandb.ai/david-spannagl/Evaluating_phi-1.5_for_Kotlin-code-completion/runs/meezrn0h' target=\"_blank\">https://wandb.ai/david-spannagl/Evaluating_phi-1.5_for_Kotlin-code-completion/runs/meezrn0h</a><br/> View project at: <a href='https://wandb.ai/david-spannagl/Evaluating_phi-1.5_for_Kotlin-code-completion' target=\"_blank\">https://wandb.ai/david-spannagl/Evaluating_phi-1.5_for_Kotlin-code-completion</a><br/>Synced 5 W&B file(s), 0 media file(s), 0 artifact file(s) and 0 other file(s)"
            ]
          },
          "metadata": {}
        },
        {
          "output_type": "display_data",
          "data": {
            "text/plain": [
              "<IPython.core.display.HTML object>"
            ],
            "text/html": [
              "Find logs at: <code>./wandb/run-20240505_202205-meezrn0h/logs</code>"
            ]
          },
          "metadata": {}
        }
      ],
      "execution_count": 14
    },
    {
      "metadata": {
        "colab": {
          "base_uri": "https://localhost:8080/",
          "height": 391,
          "referenced_widgets": [
            "ac7a53d9838c4563a82b4d2dec1bcbaf",
            "9a8cdc4373264206b0085b771fc584fa",
            "eb04c3c7ae43430fb8e7913b450ab52f",
            "a72302c8ce474bf6bf13a2c70a0899a0",
            "5c4e2b26ca26427fae950c7e5c7227c3",
            "d80203dc03b54e3e99ff44ab11c27eb2",
            "19b4bb0303c3467995d2a8635d24c500",
            "21e998dba73a4d688357deae6fff4328"
          ]
        },
        "id": "3d1fbe0adb217ea6",
        "outputId": "62774a91-0328-40ba-ad35-c802e3df1bc0"
      },
      "cell_type": "code",
      "source": [
        "run_base_codexglue = wandb.init(project='Evaluating_phi-1.5_for_Kotlin-code-completion', name='base_codexglue_test', job_type='eval', anonymous='allow')\n",
        "\n",
        "base_trainer.evaluate(eval_dataset=codexglue_test_dataset)\n",
        "\n",
        "run_base_codexglue.finish()"
      ],
      "id": "3d1fbe0adb217ea6",
      "outputs": [
        {
          "output_type": "display_data",
          "data": {
            "text/plain": [
              "<IPython.core.display.HTML object>"
            ],
            "text/html": [
              "Tracking run with wandb version 0.16.6"
            ]
          },
          "metadata": {}
        },
        {
          "output_type": "display_data",
          "data": {
            "text/plain": [
              "<IPython.core.display.HTML object>"
            ],
            "text/html": [
              "Run data is saved locally in <code>/content/wandb/run-20240505_202433-0umfrurh</code>"
            ]
          },
          "metadata": {}
        },
        {
          "output_type": "display_data",
          "data": {
            "text/plain": [
              "<IPython.core.display.HTML object>"
            ],
            "text/html": [
              "Syncing run <strong><a href='https://wandb.ai/david-spannagl/Evaluating_phi-1.5_for_Kotlin-code-completion/runs/0umfrurh' target=\"_blank\">base_codexglue_test</a></strong> to <a href='https://wandb.ai/david-spannagl/Evaluating_phi-1.5_for_Kotlin-code-completion' target=\"_blank\">Weights & Biases</a> (<a href='https://wandb.me/run' target=\"_blank\">docs</a>)<br/>"
            ]
          },
          "metadata": {}
        },
        {
          "output_type": "display_data",
          "data": {
            "text/plain": [
              "<IPython.core.display.HTML object>"
            ],
            "text/html": [
              " View project at <a href='https://wandb.ai/david-spannagl/Evaluating_phi-1.5_for_Kotlin-code-completion' target=\"_blank\">https://wandb.ai/david-spannagl/Evaluating_phi-1.5_for_Kotlin-code-completion</a>"
            ]
          },
          "metadata": {}
        },
        {
          "output_type": "display_data",
          "data": {
            "text/plain": [
              "<IPython.core.display.HTML object>"
            ],
            "text/html": [
              " View run at <a href='https://wandb.ai/david-spannagl/Evaluating_phi-1.5_for_Kotlin-code-completion/runs/0umfrurh' target=\"_blank\">https://wandb.ai/david-spannagl/Evaluating_phi-1.5_for_Kotlin-code-completion/runs/0umfrurh</a>"
            ]
          },
          "metadata": {}
        },
        {
          "output_type": "stream",
          "name": "stdout",
          "text": [
            "{'eval_loss': 3.007777690887451, 'eval_runtime': 738.6539, 'eval_samples_per_second': 6.769, 'eval_steps_per_second': 0.846}\n"
          ]
        },
        {
          "output_type": "display_data",
          "data": {
            "text/plain": [
              "VBox(children=(Label(value='0.001 MB of 0.001 MB uploaded\\r'), FloatProgress(value=1.0, max=1.0)))"
            ],
            "application/vnd.jupyter.widget-view+json": {
              "version_major": 2,
              "version_minor": 0,
              "model_id": "ac7a53d9838c4563a82b4d2dec1bcbaf"
            }
          },
          "metadata": {}
        },
        {
          "output_type": "display_data",
          "data": {
            "text/plain": [
              "<IPython.core.display.HTML object>"
            ],
            "text/html": [
              "<style>\n",
              "    table.wandb td:nth-child(1) { padding: 0 10px; text-align: left ; width: auto;} td:nth-child(2) {text-align: left ; width: 100%}\n",
              "    .wandb-row { display: flex; flex-direction: row; flex-wrap: wrap; justify-content: flex-start; width: 100% }\n",
              "    .wandb-col { display: flex; flex-direction: column; flex-basis: 100%; flex: 1; padding: 10px; }\n",
              "    </style>\n",
              "<div class=\"wandb-row\"><div class=\"wandb-col\"><h3>Run history:</h3><br/><table class=\"wandb\"><tr><td>eval/loss</td><td>▁</td></tr><tr><td>eval/runtime</td><td>▁</td></tr><tr><td>eval/samples_per_second</td><td>▁</td></tr><tr><td>eval/steps_per_second</td><td>▁</td></tr><tr><td>train/global_step</td><td>▁</td></tr></table><br/></div><div class=\"wandb-col\"><h3>Run summary:</h3><br/><table class=\"wandb\"><tr><td>eval/loss</td><td>3.00778</td></tr><tr><td>eval/runtime</td><td>738.6539</td></tr><tr><td>eval/samples_per_second</td><td>6.769</td></tr><tr><td>eval/steps_per_second</td><td>0.846</td></tr><tr><td>train/global_step</td><td>0</td></tr></table><br/></div></div>"
            ]
          },
          "metadata": {}
        },
        {
          "output_type": "display_data",
          "data": {
            "text/plain": [
              "<IPython.core.display.HTML object>"
            ],
            "text/html": [
              " View run <strong style=\"color:#cdcd00\">base_codexglue_test</strong> at: <a href='https://wandb.ai/david-spannagl/Evaluating_phi-1.5_for_Kotlin-code-completion/runs/0umfrurh' target=\"_blank\">https://wandb.ai/david-spannagl/Evaluating_phi-1.5_for_Kotlin-code-completion/runs/0umfrurh</a><br/> View project at: <a href='https://wandb.ai/david-spannagl/Evaluating_phi-1.5_for_Kotlin-code-completion' target=\"_blank\">https://wandb.ai/david-spannagl/Evaluating_phi-1.5_for_Kotlin-code-completion</a><br/>Synced 5 W&B file(s), 0 media file(s), 0 artifact file(s) and 0 other file(s)"
            ]
          },
          "metadata": {}
        },
        {
          "output_type": "display_data",
          "data": {
            "text/plain": [
              "<IPython.core.display.HTML object>"
            ],
            "text/html": [
              "Find logs at: <code>./wandb/run-20240505_202433-0umfrurh/logs</code>"
            ]
          },
          "metadata": {}
        }
      ],
      "execution_count": 15
    },
    {
      "metadata": {
        "id": "1a7027f22ee877e6"
      },
      "cell_type": "code",
      "source": [
        "tuned_training_args = TrainingArguments(\n",
        "    output_dir=model_log_dir + 'tuned/output/',\n",
        "    per_device_eval_batch_size=8,\n",
        "    evaluation_strategy=\"steps\",\n",
        "    disable_tqdm=True\n",
        ")\n",
        "\n",
        "tuned_trainer = Trainer(\n",
        "    model=tuned_phi_model,\n",
        "    args=tuned_training_args,\n",
        "    data_collator=DataCollatorForLanguageModeling(tokenizer=phi_tokenizer, mlm=False)\n",
        ")"
      ],
      "id": "1a7027f22ee877e6",
      "outputs": [],
      "execution_count": 16
    },
    {
      "metadata": {
        "colab": {
          "base_uri": "https://localhost:8080/",
          "height": 391,
          "referenced_widgets": [
            "e2edd0ceaaeb43e29c3b11ce9b8606a3",
            "c6c43aeefdfa4b8a970b4b14b8a4c4fe",
            "2c6d01da6a0349c59f485b90bd69a8a0",
            "63291d9bd8cd4cd7aa4191fadcf14d73",
            "c1fc744db644403d8ac1de9cad36a691",
            "1e22f76319614be997ced72ace242964",
            "70723d5cddb44284b105902f84ece769",
            "81141f3fa5c149c0b19217245d71fd22"
          ]
        },
        "id": "551ccc4fe77c44a8",
        "outputId": "6104795f-5e06-4d77-eed6-53aa800825dc"
      },
      "cell_type": "code",
      "source": [
        "run_tuned_kotlin = wandb.init(project='Evaluating_phi-1.5_for_Kotlin-code-completion', name='tuned_kotlin_test', job_type='eval', anonymous='allow')\n",
        "\n",
        "tuned_trainer.evaluate(eval_dataset=kotlin_test_dataset)\n",
        "\n",
        "run_tuned_kotlin.finish()"
      ],
      "id": "551ccc4fe77c44a8",
      "outputs": [
        {
          "output_type": "display_data",
          "data": {
            "text/plain": [
              "<IPython.core.display.HTML object>"
            ],
            "text/html": [
              "Tracking run with wandb version 0.16.6"
            ]
          },
          "metadata": {}
        },
        {
          "output_type": "display_data",
          "data": {
            "text/plain": [
              "<IPython.core.display.HTML object>"
            ],
            "text/html": [
              "Run data is saved locally in <code>/content/wandb/run-20240505_203659-iq5atlhl</code>"
            ]
          },
          "metadata": {}
        },
        {
          "output_type": "display_data",
          "data": {
            "text/plain": [
              "<IPython.core.display.HTML object>"
            ],
            "text/html": [
              "Syncing run <strong><a href='https://wandb.ai/david-spannagl/Evaluating_phi-1.5_for_Kotlin-code-completion/runs/iq5atlhl' target=\"_blank\">tuned_kotlin_test</a></strong> to <a href='https://wandb.ai/david-spannagl/Evaluating_phi-1.5_for_Kotlin-code-completion' target=\"_blank\">Weights & Biases</a> (<a href='https://wandb.me/run' target=\"_blank\">docs</a>)<br/>"
            ]
          },
          "metadata": {}
        },
        {
          "output_type": "display_data",
          "data": {
            "text/plain": [
              "<IPython.core.display.HTML object>"
            ],
            "text/html": [
              " View project at <a href='https://wandb.ai/david-spannagl/Evaluating_phi-1.5_for_Kotlin-code-completion' target=\"_blank\">https://wandb.ai/david-spannagl/Evaluating_phi-1.5_for_Kotlin-code-completion</a>"
            ]
          },
          "metadata": {}
        },
        {
          "output_type": "display_data",
          "data": {
            "text/plain": [
              "<IPython.core.display.HTML object>"
            ],
            "text/html": [
              " View run at <a href='https://wandb.ai/david-spannagl/Evaluating_phi-1.5_for_Kotlin-code-completion/runs/iq5atlhl' target=\"_blank\">https://wandb.ai/david-spannagl/Evaluating_phi-1.5_for_Kotlin-code-completion/runs/iq5atlhl</a>"
            ]
          },
          "metadata": {}
        },
        {
          "output_type": "stream",
          "name": "stdout",
          "text": [
            "{'eval_loss': 5.300319671630859, 'eval_runtime': 151.2423, 'eval_samples_per_second': 21.859, 'eval_steps_per_second': 2.737}\n"
          ]
        },
        {
          "output_type": "display_data",
          "data": {
            "text/plain": [
              "VBox(children=(Label(value='0.001 MB of 0.001 MB uploaded\\r'), FloatProgress(value=1.0, max=1.0)))"
            ],
            "application/vnd.jupyter.widget-view+json": {
              "version_major": 2,
              "version_minor": 0,
              "model_id": "e2edd0ceaaeb43e29c3b11ce9b8606a3"
            }
          },
          "metadata": {}
        },
        {
          "output_type": "display_data",
          "data": {
            "text/plain": [
              "<IPython.core.display.HTML object>"
            ],
            "text/html": [
              "<style>\n",
              "    table.wandb td:nth-child(1) { padding: 0 10px; text-align: left ; width: auto;} td:nth-child(2) {text-align: left ; width: 100%}\n",
              "    .wandb-row { display: flex; flex-direction: row; flex-wrap: wrap; justify-content: flex-start; width: 100% }\n",
              "    .wandb-col { display: flex; flex-direction: column; flex-basis: 100%; flex: 1; padding: 10px; }\n",
              "    </style>\n",
              "<div class=\"wandb-row\"><div class=\"wandb-col\"><h3>Run history:</h3><br/><table class=\"wandb\"><tr><td>eval/loss</td><td>▁</td></tr><tr><td>eval/runtime</td><td>▁</td></tr><tr><td>eval/samples_per_second</td><td>▁</td></tr><tr><td>eval/steps_per_second</td><td>▁</td></tr><tr><td>train/global_step</td><td>▁</td></tr></table><br/></div><div class=\"wandb-col\"><h3>Run summary:</h3><br/><table class=\"wandb\"><tr><td>eval/loss</td><td>5.30032</td></tr><tr><td>eval/runtime</td><td>151.2423</td></tr><tr><td>eval/samples_per_second</td><td>21.859</td></tr><tr><td>eval/steps_per_second</td><td>2.737</td></tr><tr><td>train/global_step</td><td>0</td></tr></table><br/></div></div>"
            ]
          },
          "metadata": {}
        },
        {
          "output_type": "display_data",
          "data": {
            "text/plain": [
              "<IPython.core.display.HTML object>"
            ],
            "text/html": [
              " View run <strong style=\"color:#cdcd00\">tuned_kotlin_test</strong> at: <a href='https://wandb.ai/david-spannagl/Evaluating_phi-1.5_for_Kotlin-code-completion/runs/iq5atlhl' target=\"_blank\">https://wandb.ai/david-spannagl/Evaluating_phi-1.5_for_Kotlin-code-completion/runs/iq5atlhl</a><br/> View project at: <a href='https://wandb.ai/david-spannagl/Evaluating_phi-1.5_for_Kotlin-code-completion' target=\"_blank\">https://wandb.ai/david-spannagl/Evaluating_phi-1.5_for_Kotlin-code-completion</a><br/>Synced 5 W&B file(s), 0 media file(s), 0 artifact file(s) and 0 other file(s)"
            ]
          },
          "metadata": {}
        },
        {
          "output_type": "display_data",
          "data": {
            "text/plain": [
              "<IPython.core.display.HTML object>"
            ],
            "text/html": [
              "Find logs at: <code>./wandb/run-20240505_203659-iq5atlhl/logs</code>"
            ]
          },
          "metadata": {}
        }
      ],
      "execution_count": 17
    },
    {
      "metadata": {
        "colab": {
          "base_uri": "https://localhost:8080/",
          "height": 391,
          "referenced_widgets": [
            "df40f9b436764ab98f4d816907aec4dc",
            "6cf8479c416c4a5e94e084a3622e182b",
            "625c1c6960624da8af2a8fed62a109fa",
            "1ea078792ecc408098bc5c45e143630c",
            "522a220eb3c04675bcf1e5d903ca7f97",
            "aaf1d9f6bd314f0899915170c5deecd5",
            "2a58b340d5ae4f49a3ae13ef379792f0",
            "f38d041229dc4ee0a692517c150b2f1d"
          ]
        },
        "id": "1d24953194d8879a",
        "outputId": "573f972e-2f53-4204-ea67-79b8b5bb6e87"
      },
      "cell_type": "code",
      "source": [
        "run_tuned_codexglue = wandb.init(project='Evaluating_phi-1.5_for_Kotlin-code-completion', name='tuned_codexglue_test', job_type='eval', anonymous='allow')\n",
        "\n",
        "tuned_trainer.evaluate(eval_dataset=codexglue_test_dataset)\n",
        "\n",
        "run_tuned_codexglue.finish()"
      ],
      "id": "1d24953194d8879a",
      "outputs": [
        {
          "data": {
            "text/html": [
              "Tracking run with wandb version 0.16.6"
            ],
            "text/plain": [
              "<IPython.core.display.HTML object>"
            ]
          },
          "metadata": {},
          "output_type": "display_data"
        },
        {
          "data": {
            "text/html": [
              "Run data is saved locally in <code>/content/wandb/run-20240505_203938-8b9suaqz</code>"
            ],
            "text/plain": [
              "<IPython.core.display.HTML object>"
            ]
          },
          "metadata": {},
          "output_type": "display_data"
        },
        {
          "data": {
            "text/html": [
              "Syncing run <strong><a href='https://wandb.ai/david-spannagl/Evaluating_phi-1.5_for_Kotlin-code-completion/runs/8b9suaqz' target=\"_blank\">tuned_codexglue_test</a></strong> to <a href='https://wandb.ai/david-spannagl/Evaluating_phi-1.5_for_Kotlin-code-completion' target=\"_blank\">Weights & Biases</a> (<a href='https://wandb.me/run' target=\"_blank\">docs</a>)<br/>"
            ],
            "text/plain": [
              "<IPython.core.display.HTML object>"
            ]
          },
          "metadata": {},
          "output_type": "display_data"
        },
        {
          "data": {
            "text/html": [
              " View project at <a href='https://wandb.ai/david-spannagl/Evaluating_phi-1.5_for_Kotlin-code-completion' target=\"_blank\">https://wandb.ai/david-spannagl/Evaluating_phi-1.5_for_Kotlin-code-completion</a>"
            ],
            "text/plain": [
              "<IPython.core.display.HTML object>"
            ]
          },
          "metadata": {},
          "output_type": "display_data"
        },
        {
          "data": {
            "text/html": [
              " View run at <a href='https://wandb.ai/david-spannagl/Evaluating_phi-1.5_for_Kotlin-code-completion/runs/8b9suaqz' target=\"_blank\">https://wandb.ai/david-spannagl/Evaluating_phi-1.5_for_Kotlin-code-completion/runs/8b9suaqz</a>"
            ],
            "text/plain": [
              "<IPython.core.display.HTML object>"
            ]
          },
          "metadata": {},
          "output_type": "display_data"
        },
        {
          "output_type": "stream",
          "name": "stdout",
          "text": [
            "{'eval_loss': 3.007777690887451, 'eval_runtime': 739.9081, 'eval_samples_per_second': 6.758, 'eval_steps_per_second': 0.845}\n"
          ]
        },
        {
          "output_type": "display_data",
          "data": {
            "text/plain": [
              "VBox(children=(Label(value='0.001 MB of 0.001 MB uploaded\\r'), FloatProgress(value=1.0, max=1.0)))"
            ],
            "application/vnd.jupyter.widget-view+json": {
              "version_major": 2,
              "version_minor": 0,
              "model_id": "df40f9b436764ab98f4d816907aec4dc"
            }
          },
          "metadata": {}
        },
        {
          "output_type": "display_data",
          "data": {
            "text/plain": [
              "<IPython.core.display.HTML object>"
            ],
            "text/html": [
              "<style>\n",
              "    table.wandb td:nth-child(1) { padding: 0 10px; text-align: left ; width: auto;} td:nth-child(2) {text-align: left ; width: 100%}\n",
              "    .wandb-row { display: flex; flex-direction: row; flex-wrap: wrap; justify-content: flex-start; width: 100% }\n",
              "    .wandb-col { display: flex; flex-direction: column; flex-basis: 100%; flex: 1; padding: 10px; }\n",
              "    </style>\n",
              "<div class=\"wandb-row\"><div class=\"wandb-col\"><h3>Run history:</h3><br/><table class=\"wandb\"><tr><td>eval/loss</td><td>▁</td></tr><tr><td>eval/runtime</td><td>▁</td></tr><tr><td>eval/samples_per_second</td><td>▁</td></tr><tr><td>eval/steps_per_second</td><td>▁</td></tr><tr><td>train/global_step</td><td>▁</td></tr></table><br/></div><div class=\"wandb-col\"><h3>Run summary:</h3><br/><table class=\"wandb\"><tr><td>eval/loss</td><td>3.00778</td></tr><tr><td>eval/runtime</td><td>739.9081</td></tr><tr><td>eval/samples_per_second</td><td>6.758</td></tr><tr><td>eval/steps_per_second</td><td>0.845</td></tr><tr><td>train/global_step</td><td>0</td></tr></table><br/></div></div>"
            ]
          },
          "metadata": {}
        },
        {
          "output_type": "display_data",
          "data": {
            "text/plain": [
              "<IPython.core.display.HTML object>"
            ],
            "text/html": [
              " View run <strong style=\"color:#cdcd00\">tuned_codexglue_test</strong> at: <a href='https://wandb.ai/david-spannagl/Evaluating_phi-1.5_for_Kotlin-code-completion/runs/8b9suaqz' target=\"_blank\">https://wandb.ai/david-spannagl/Evaluating_phi-1.5_for_Kotlin-code-completion/runs/8b9suaqz</a><br/> View project at: <a href='https://wandb.ai/david-spannagl/Evaluating_phi-1.5_for_Kotlin-code-completion' target=\"_blank\">https://wandb.ai/david-spannagl/Evaluating_phi-1.5_for_Kotlin-code-completion</a><br/>Synced 5 W&B file(s), 0 media file(s), 0 artifact file(s) and 0 other file(s)"
            ]
          },
          "metadata": {}
        },
        {
          "output_type": "display_data",
          "data": {
            "text/plain": [
              "<IPython.core.display.HTML object>"
            ],
            "text/html": [
              "Find logs at: <code>./wandb/run-20240505_203938-8b9suaqz/logs</code>"
            ]
          },
          "metadata": {}
        }
      ],
      "execution_count": 18
    }
  ],
  "metadata": {
    "kernelspec": {
      "display_name": "Python 3",
      "name": "python3"
    },
    "language_info": {
      "codemirror_mode": {
        "name": "ipython",
        "version": 2
      },
      "file_extension": ".py",
      "mimetype": "text/x-python",
      "name": "python",
      "nbconvert_exporter": "python",
      "pygments_lexer": "ipython2",
      "version": "2.7.6"
    },
    "colab": {
      "provenance": [],
      "gpuType": "T4"
    },
    "accelerator": "GPU",
    "widgets": {
      "application/vnd.jupyter.widget-state+json": {
        "2d349d99783343e790f75a5e4556a2f6": {
          "model_module": "@jupyter-widgets/controls",
          "model_name": "VBoxModel",
          "model_module_version": "1.5.0",
          "state": {
            "_dom_classes": [],
            "_model_module": "@jupyter-widgets/controls",
            "_model_module_version": "1.5.0",
            "_model_name": "VBoxModel",
            "_view_count": null,
            "_view_module": "@jupyter-widgets/controls",
            "_view_module_version": "1.5.0",
            "_view_name": "VBoxView",
            "box_style": "",
            "children": [
              "IPY_MODEL_9766e71820ba41d2b13d94442ff068e2",
              "IPY_MODEL_75bbaf95215146d6806e5497bf7eb414"
            ],
            "layout": "IPY_MODEL_ef9bf29164f747ee8c62e9824ec37a23"
          }
        },
        "9766e71820ba41d2b13d94442ff068e2": {
          "model_module": "@jupyter-widgets/controls",
          "model_name": "LabelModel",
          "model_module_version": "1.5.0",
          "state": {
            "_dom_classes": [],
            "_model_module": "@jupyter-widgets/controls",
            "_model_module_version": "1.5.0",
            "_model_name": "LabelModel",
            "_view_count": null,
            "_view_module": "@jupyter-widgets/controls",
            "_view_module_version": "1.5.0",
            "_view_name": "LabelView",
            "description": "",
            "description_tooltip": null,
            "layout": "IPY_MODEL_f31a1d42be0842b4afbe3e7c1d5d6e12",
            "placeholder": "​",
            "style": "IPY_MODEL_58374b9600e5416ea6ea38c537da2a10",
            "value": "0.021 MB of 0.021 MB uploaded\r"
          }
        },
        "75bbaf95215146d6806e5497bf7eb414": {
          "model_module": "@jupyter-widgets/controls",
          "model_name": "FloatProgressModel",
          "model_module_version": "1.5.0",
          "state": {
            "_dom_classes": [],
            "_model_module": "@jupyter-widgets/controls",
            "_model_module_version": "1.5.0",
            "_model_name": "FloatProgressModel",
            "_view_count": null,
            "_view_module": "@jupyter-widgets/controls",
            "_view_module_version": "1.5.0",
            "_view_name": "ProgressView",
            "bar_style": "",
            "description": "",
            "description_tooltip": null,
            "layout": "IPY_MODEL_9ce89cbdce8940fa8233d81dc0748847",
            "max": 1,
            "min": 0,
            "orientation": "horizontal",
            "style": "IPY_MODEL_33f36f7e64eb4a8c9fb5a37a5b7a4e54",
            "value": 1
          }
        },
        "ef9bf29164f747ee8c62e9824ec37a23": {
          "model_module": "@jupyter-widgets/base",
          "model_name": "LayoutModel",
          "model_module_version": "1.2.0",
          "state": {
            "_model_module": "@jupyter-widgets/base",
            "_model_module_version": "1.2.0",
            "_model_name": "LayoutModel",
            "_view_count": null,
            "_view_module": "@jupyter-widgets/base",
            "_view_module_version": "1.2.0",
            "_view_name": "LayoutView",
            "align_content": null,
            "align_items": null,
            "align_self": null,
            "border": null,
            "bottom": null,
            "display": null,
            "flex": null,
            "flex_flow": null,
            "grid_area": null,
            "grid_auto_columns": null,
            "grid_auto_flow": null,
            "grid_auto_rows": null,
            "grid_column": null,
            "grid_gap": null,
            "grid_row": null,
            "grid_template_areas": null,
            "grid_template_columns": null,
            "grid_template_rows": null,
            "height": null,
            "justify_content": null,
            "justify_items": null,
            "left": null,
            "margin": null,
            "max_height": null,
            "max_width": null,
            "min_height": null,
            "min_width": null,
            "object_fit": null,
            "object_position": null,
            "order": null,
            "overflow": null,
            "overflow_x": null,
            "overflow_y": null,
            "padding": null,
            "right": null,
            "top": null,
            "visibility": null,
            "width": null
          }
        },
        "f31a1d42be0842b4afbe3e7c1d5d6e12": {
          "model_module": "@jupyter-widgets/base",
          "model_name": "LayoutModel",
          "model_module_version": "1.2.0",
          "state": {
            "_model_module": "@jupyter-widgets/base",
            "_model_module_version": "1.2.0",
            "_model_name": "LayoutModel",
            "_view_count": null,
            "_view_module": "@jupyter-widgets/base",
            "_view_module_version": "1.2.0",
            "_view_name": "LayoutView",
            "align_content": null,
            "align_items": null,
            "align_self": null,
            "border": null,
            "bottom": null,
            "display": null,
            "flex": null,
            "flex_flow": null,
            "grid_area": null,
            "grid_auto_columns": null,
            "grid_auto_flow": null,
            "grid_auto_rows": null,
            "grid_column": null,
            "grid_gap": null,
            "grid_row": null,
            "grid_template_areas": null,
            "grid_template_columns": null,
            "grid_template_rows": null,
            "height": null,
            "justify_content": null,
            "justify_items": null,
            "left": null,
            "margin": null,
            "max_height": null,
            "max_width": null,
            "min_height": null,
            "min_width": null,
            "object_fit": null,
            "object_position": null,
            "order": null,
            "overflow": null,
            "overflow_x": null,
            "overflow_y": null,
            "padding": null,
            "right": null,
            "top": null,
            "visibility": null,
            "width": null
          }
        },
        "58374b9600e5416ea6ea38c537da2a10": {
          "model_module": "@jupyter-widgets/controls",
          "model_name": "DescriptionStyleModel",
          "model_module_version": "1.5.0",
          "state": {
            "_model_module": "@jupyter-widgets/controls",
            "_model_module_version": "1.5.0",
            "_model_name": "DescriptionStyleModel",
            "_view_count": null,
            "_view_module": "@jupyter-widgets/base",
            "_view_module_version": "1.2.0",
            "_view_name": "StyleView",
            "description_width": ""
          }
        },
        "9ce89cbdce8940fa8233d81dc0748847": {
          "model_module": "@jupyter-widgets/base",
          "model_name": "LayoutModel",
          "model_module_version": "1.2.0",
          "state": {
            "_model_module": "@jupyter-widgets/base",
            "_model_module_version": "1.2.0",
            "_model_name": "LayoutModel",
            "_view_count": null,
            "_view_module": "@jupyter-widgets/base",
            "_view_module_version": "1.2.0",
            "_view_name": "LayoutView",
            "align_content": null,
            "align_items": null,
            "align_self": null,
            "border": null,
            "bottom": null,
            "display": null,
            "flex": null,
            "flex_flow": null,
            "grid_area": null,
            "grid_auto_columns": null,
            "grid_auto_flow": null,
            "grid_auto_rows": null,
            "grid_column": null,
            "grid_gap": null,
            "grid_row": null,
            "grid_template_areas": null,
            "grid_template_columns": null,
            "grid_template_rows": null,
            "height": null,
            "justify_content": null,
            "justify_items": null,
            "left": null,
            "margin": null,
            "max_height": null,
            "max_width": null,
            "min_height": null,
            "min_width": null,
            "object_fit": null,
            "object_position": null,
            "order": null,
            "overflow": null,
            "overflow_x": null,
            "overflow_y": null,
            "padding": null,
            "right": null,
            "top": null,
            "visibility": null,
            "width": null
          }
        },
        "33f36f7e64eb4a8c9fb5a37a5b7a4e54": {
          "model_module": "@jupyter-widgets/controls",
          "model_name": "ProgressStyleModel",
          "model_module_version": "1.5.0",
          "state": {
            "_model_module": "@jupyter-widgets/controls",
            "_model_module_version": "1.5.0",
            "_model_name": "ProgressStyleModel",
            "_view_count": null,
            "_view_module": "@jupyter-widgets/base",
            "_view_module_version": "1.2.0",
            "_view_name": "StyleView",
            "bar_color": null,
            "description_width": ""
          }
        },
        "ac7a53d9838c4563a82b4d2dec1bcbaf": {
          "model_module": "@jupyter-widgets/controls",
          "model_name": "VBoxModel",
          "model_module_version": "1.5.0",
          "state": {
            "_dom_classes": [],
            "_model_module": "@jupyter-widgets/controls",
            "_model_module_version": "1.5.0",
            "_model_name": "VBoxModel",
            "_view_count": null,
            "_view_module": "@jupyter-widgets/controls",
            "_view_module_version": "1.5.0",
            "_view_name": "VBoxView",
            "box_style": "",
            "children": [
              "IPY_MODEL_9a8cdc4373264206b0085b771fc584fa",
              "IPY_MODEL_eb04c3c7ae43430fb8e7913b450ab52f"
            ],
            "layout": "IPY_MODEL_a72302c8ce474bf6bf13a2c70a0899a0"
          }
        },
        "9a8cdc4373264206b0085b771fc584fa": {
          "model_module": "@jupyter-widgets/controls",
          "model_name": "LabelModel",
          "model_module_version": "1.5.0",
          "state": {
            "_dom_classes": [],
            "_model_module": "@jupyter-widgets/controls",
            "_model_module_version": "1.5.0",
            "_model_name": "LabelModel",
            "_view_count": null,
            "_view_module": "@jupyter-widgets/controls",
            "_view_module_version": "1.5.0",
            "_view_name": "LabelView",
            "description": "",
            "description_tooltip": null,
            "layout": "IPY_MODEL_5c4e2b26ca26427fae950c7e5c7227c3",
            "placeholder": "​",
            "style": "IPY_MODEL_d80203dc03b54e3e99ff44ab11c27eb2",
            "value": "0.011 MB of 0.011 MB uploaded\r"
          }
        },
        "eb04c3c7ae43430fb8e7913b450ab52f": {
          "model_module": "@jupyter-widgets/controls",
          "model_name": "FloatProgressModel",
          "model_module_version": "1.5.0",
          "state": {
            "_dom_classes": [],
            "_model_module": "@jupyter-widgets/controls",
            "_model_module_version": "1.5.0",
            "_model_name": "FloatProgressModel",
            "_view_count": null,
            "_view_module": "@jupyter-widgets/controls",
            "_view_module_version": "1.5.0",
            "_view_name": "ProgressView",
            "bar_style": "",
            "description": "",
            "description_tooltip": null,
            "layout": "IPY_MODEL_19b4bb0303c3467995d2a8635d24c500",
            "max": 1,
            "min": 0,
            "orientation": "horizontal",
            "style": "IPY_MODEL_21e998dba73a4d688357deae6fff4328",
            "value": 1
          }
        },
        "a72302c8ce474bf6bf13a2c70a0899a0": {
          "model_module": "@jupyter-widgets/base",
          "model_name": "LayoutModel",
          "model_module_version": "1.2.0",
          "state": {
            "_model_module": "@jupyter-widgets/base",
            "_model_module_version": "1.2.0",
            "_model_name": "LayoutModel",
            "_view_count": null,
            "_view_module": "@jupyter-widgets/base",
            "_view_module_version": "1.2.0",
            "_view_name": "LayoutView",
            "align_content": null,
            "align_items": null,
            "align_self": null,
            "border": null,
            "bottom": null,
            "display": null,
            "flex": null,
            "flex_flow": null,
            "grid_area": null,
            "grid_auto_columns": null,
            "grid_auto_flow": null,
            "grid_auto_rows": null,
            "grid_column": null,
            "grid_gap": null,
            "grid_row": null,
            "grid_template_areas": null,
            "grid_template_columns": null,
            "grid_template_rows": null,
            "height": null,
            "justify_content": null,
            "justify_items": null,
            "left": null,
            "margin": null,
            "max_height": null,
            "max_width": null,
            "min_height": null,
            "min_width": null,
            "object_fit": null,
            "object_position": null,
            "order": null,
            "overflow": null,
            "overflow_x": null,
            "overflow_y": null,
            "padding": null,
            "right": null,
            "top": null,
            "visibility": null,
            "width": null
          }
        },
        "5c4e2b26ca26427fae950c7e5c7227c3": {
          "model_module": "@jupyter-widgets/base",
          "model_name": "LayoutModel",
          "model_module_version": "1.2.0",
          "state": {
            "_model_module": "@jupyter-widgets/base",
            "_model_module_version": "1.2.0",
            "_model_name": "LayoutModel",
            "_view_count": null,
            "_view_module": "@jupyter-widgets/base",
            "_view_module_version": "1.2.0",
            "_view_name": "LayoutView",
            "align_content": null,
            "align_items": null,
            "align_self": null,
            "border": null,
            "bottom": null,
            "display": null,
            "flex": null,
            "flex_flow": null,
            "grid_area": null,
            "grid_auto_columns": null,
            "grid_auto_flow": null,
            "grid_auto_rows": null,
            "grid_column": null,
            "grid_gap": null,
            "grid_row": null,
            "grid_template_areas": null,
            "grid_template_columns": null,
            "grid_template_rows": null,
            "height": null,
            "justify_content": null,
            "justify_items": null,
            "left": null,
            "margin": null,
            "max_height": null,
            "max_width": null,
            "min_height": null,
            "min_width": null,
            "object_fit": null,
            "object_position": null,
            "order": null,
            "overflow": null,
            "overflow_x": null,
            "overflow_y": null,
            "padding": null,
            "right": null,
            "top": null,
            "visibility": null,
            "width": null
          }
        },
        "d80203dc03b54e3e99ff44ab11c27eb2": {
          "model_module": "@jupyter-widgets/controls",
          "model_name": "DescriptionStyleModel",
          "model_module_version": "1.5.0",
          "state": {
            "_model_module": "@jupyter-widgets/controls",
            "_model_module_version": "1.5.0",
            "_model_name": "DescriptionStyleModel",
            "_view_count": null,
            "_view_module": "@jupyter-widgets/base",
            "_view_module_version": "1.2.0",
            "_view_name": "StyleView",
            "description_width": ""
          }
        },
        "19b4bb0303c3467995d2a8635d24c500": {
          "model_module": "@jupyter-widgets/base",
          "model_name": "LayoutModel",
          "model_module_version": "1.2.0",
          "state": {
            "_model_module": "@jupyter-widgets/base",
            "_model_module_version": "1.2.0",
            "_model_name": "LayoutModel",
            "_view_count": null,
            "_view_module": "@jupyter-widgets/base",
            "_view_module_version": "1.2.0",
            "_view_name": "LayoutView",
            "align_content": null,
            "align_items": null,
            "align_self": null,
            "border": null,
            "bottom": null,
            "display": null,
            "flex": null,
            "flex_flow": null,
            "grid_area": null,
            "grid_auto_columns": null,
            "grid_auto_flow": null,
            "grid_auto_rows": null,
            "grid_column": null,
            "grid_gap": null,
            "grid_row": null,
            "grid_template_areas": null,
            "grid_template_columns": null,
            "grid_template_rows": null,
            "height": null,
            "justify_content": null,
            "justify_items": null,
            "left": null,
            "margin": null,
            "max_height": null,
            "max_width": null,
            "min_height": null,
            "min_width": null,
            "object_fit": null,
            "object_position": null,
            "order": null,
            "overflow": null,
            "overflow_x": null,
            "overflow_y": null,
            "padding": null,
            "right": null,
            "top": null,
            "visibility": null,
            "width": null
          }
        },
        "21e998dba73a4d688357deae6fff4328": {
          "model_module": "@jupyter-widgets/controls",
          "model_name": "ProgressStyleModel",
          "model_module_version": "1.5.0",
          "state": {
            "_model_module": "@jupyter-widgets/controls",
            "_model_module_version": "1.5.0",
            "_model_name": "ProgressStyleModel",
            "_view_count": null,
            "_view_module": "@jupyter-widgets/base",
            "_view_module_version": "1.2.0",
            "_view_name": "StyleView",
            "bar_color": null,
            "description_width": ""
          }
        },
        "e2edd0ceaaeb43e29c3b11ce9b8606a3": {
          "model_module": "@jupyter-widgets/controls",
          "model_name": "VBoxModel",
          "model_module_version": "1.5.0",
          "state": {
            "_dom_classes": [],
            "_model_module": "@jupyter-widgets/controls",
            "_model_module_version": "1.5.0",
            "_model_name": "VBoxModel",
            "_view_count": null,
            "_view_module": "@jupyter-widgets/controls",
            "_view_module_version": "1.5.0",
            "_view_name": "VBoxView",
            "box_style": "",
            "children": [
              "IPY_MODEL_c6c43aeefdfa4b8a970b4b14b8a4c4fe",
              "IPY_MODEL_2c6d01da6a0349c59f485b90bd69a8a0"
            ],
            "layout": "IPY_MODEL_63291d9bd8cd4cd7aa4191fadcf14d73"
          }
        },
        "c6c43aeefdfa4b8a970b4b14b8a4c4fe": {
          "model_module": "@jupyter-widgets/controls",
          "model_name": "LabelModel",
          "model_module_version": "1.5.0",
          "state": {
            "_dom_classes": [],
            "_model_module": "@jupyter-widgets/controls",
            "_model_module_version": "1.5.0",
            "_model_name": "LabelModel",
            "_view_count": null,
            "_view_module": "@jupyter-widgets/controls",
            "_view_module_version": "1.5.0",
            "_view_name": "LabelView",
            "description": "",
            "description_tooltip": null,
            "layout": "IPY_MODEL_c1fc744db644403d8ac1de9cad36a691",
            "placeholder": "​",
            "style": "IPY_MODEL_1e22f76319614be997ced72ace242964",
            "value": "0.021 MB of 0.021 MB uploaded\r"
          }
        },
        "2c6d01da6a0349c59f485b90bd69a8a0": {
          "model_module": "@jupyter-widgets/controls",
          "model_name": "FloatProgressModel",
          "model_module_version": "1.5.0",
          "state": {
            "_dom_classes": [],
            "_model_module": "@jupyter-widgets/controls",
            "_model_module_version": "1.5.0",
            "_model_name": "FloatProgressModel",
            "_view_count": null,
            "_view_module": "@jupyter-widgets/controls",
            "_view_module_version": "1.5.0",
            "_view_name": "ProgressView",
            "bar_style": "",
            "description": "",
            "description_tooltip": null,
            "layout": "IPY_MODEL_70723d5cddb44284b105902f84ece769",
            "max": 1,
            "min": 0,
            "orientation": "horizontal",
            "style": "IPY_MODEL_81141f3fa5c149c0b19217245d71fd22",
            "value": 1
          }
        },
        "63291d9bd8cd4cd7aa4191fadcf14d73": {
          "model_module": "@jupyter-widgets/base",
          "model_name": "LayoutModel",
          "model_module_version": "1.2.0",
          "state": {
            "_model_module": "@jupyter-widgets/base",
            "_model_module_version": "1.2.0",
            "_model_name": "LayoutModel",
            "_view_count": null,
            "_view_module": "@jupyter-widgets/base",
            "_view_module_version": "1.2.0",
            "_view_name": "LayoutView",
            "align_content": null,
            "align_items": null,
            "align_self": null,
            "border": null,
            "bottom": null,
            "display": null,
            "flex": null,
            "flex_flow": null,
            "grid_area": null,
            "grid_auto_columns": null,
            "grid_auto_flow": null,
            "grid_auto_rows": null,
            "grid_column": null,
            "grid_gap": null,
            "grid_row": null,
            "grid_template_areas": null,
            "grid_template_columns": null,
            "grid_template_rows": null,
            "height": null,
            "justify_content": null,
            "justify_items": null,
            "left": null,
            "margin": null,
            "max_height": null,
            "max_width": null,
            "min_height": null,
            "min_width": null,
            "object_fit": null,
            "object_position": null,
            "order": null,
            "overflow": null,
            "overflow_x": null,
            "overflow_y": null,
            "padding": null,
            "right": null,
            "top": null,
            "visibility": null,
            "width": null
          }
        },
        "c1fc744db644403d8ac1de9cad36a691": {
          "model_module": "@jupyter-widgets/base",
          "model_name": "LayoutModel",
          "model_module_version": "1.2.0",
          "state": {
            "_model_module": "@jupyter-widgets/base",
            "_model_module_version": "1.2.0",
            "_model_name": "LayoutModel",
            "_view_count": null,
            "_view_module": "@jupyter-widgets/base",
            "_view_module_version": "1.2.0",
            "_view_name": "LayoutView",
            "align_content": null,
            "align_items": null,
            "align_self": null,
            "border": null,
            "bottom": null,
            "display": null,
            "flex": null,
            "flex_flow": null,
            "grid_area": null,
            "grid_auto_columns": null,
            "grid_auto_flow": null,
            "grid_auto_rows": null,
            "grid_column": null,
            "grid_gap": null,
            "grid_row": null,
            "grid_template_areas": null,
            "grid_template_columns": null,
            "grid_template_rows": null,
            "height": null,
            "justify_content": null,
            "justify_items": null,
            "left": null,
            "margin": null,
            "max_height": null,
            "max_width": null,
            "min_height": null,
            "min_width": null,
            "object_fit": null,
            "object_position": null,
            "order": null,
            "overflow": null,
            "overflow_x": null,
            "overflow_y": null,
            "padding": null,
            "right": null,
            "top": null,
            "visibility": null,
            "width": null
          }
        },
        "1e22f76319614be997ced72ace242964": {
          "model_module": "@jupyter-widgets/controls",
          "model_name": "DescriptionStyleModel",
          "model_module_version": "1.5.0",
          "state": {
            "_model_module": "@jupyter-widgets/controls",
            "_model_module_version": "1.5.0",
            "_model_name": "DescriptionStyleModel",
            "_view_count": null,
            "_view_module": "@jupyter-widgets/base",
            "_view_module_version": "1.2.0",
            "_view_name": "StyleView",
            "description_width": ""
          }
        },
        "70723d5cddb44284b105902f84ece769": {
          "model_module": "@jupyter-widgets/base",
          "model_name": "LayoutModel",
          "model_module_version": "1.2.0",
          "state": {
            "_model_module": "@jupyter-widgets/base",
            "_model_module_version": "1.2.0",
            "_model_name": "LayoutModel",
            "_view_count": null,
            "_view_module": "@jupyter-widgets/base",
            "_view_module_version": "1.2.0",
            "_view_name": "LayoutView",
            "align_content": null,
            "align_items": null,
            "align_self": null,
            "border": null,
            "bottom": null,
            "display": null,
            "flex": null,
            "flex_flow": null,
            "grid_area": null,
            "grid_auto_columns": null,
            "grid_auto_flow": null,
            "grid_auto_rows": null,
            "grid_column": null,
            "grid_gap": null,
            "grid_row": null,
            "grid_template_areas": null,
            "grid_template_columns": null,
            "grid_template_rows": null,
            "height": null,
            "justify_content": null,
            "justify_items": null,
            "left": null,
            "margin": null,
            "max_height": null,
            "max_width": null,
            "min_height": null,
            "min_width": null,
            "object_fit": null,
            "object_position": null,
            "order": null,
            "overflow": null,
            "overflow_x": null,
            "overflow_y": null,
            "padding": null,
            "right": null,
            "top": null,
            "visibility": null,
            "width": null
          }
        },
        "81141f3fa5c149c0b19217245d71fd22": {
          "model_module": "@jupyter-widgets/controls",
          "model_name": "ProgressStyleModel",
          "model_module_version": "1.5.0",
          "state": {
            "_model_module": "@jupyter-widgets/controls",
            "_model_module_version": "1.5.0",
            "_model_name": "ProgressStyleModel",
            "_view_count": null,
            "_view_module": "@jupyter-widgets/base",
            "_view_module_version": "1.2.0",
            "_view_name": "StyleView",
            "bar_color": null,
            "description_width": ""
          }
        },
        "df40f9b436764ab98f4d816907aec4dc": {
          "model_module": "@jupyter-widgets/controls",
          "model_name": "VBoxModel",
          "model_module_version": "1.5.0",
          "state": {
            "_dom_classes": [],
            "_model_module": "@jupyter-widgets/controls",
            "_model_module_version": "1.5.0",
            "_model_name": "VBoxModel",
            "_view_count": null,
            "_view_module": "@jupyter-widgets/controls",
            "_view_module_version": "1.5.0",
            "_view_name": "VBoxView",
            "box_style": "",
            "children": [
              "IPY_MODEL_6cf8479c416c4a5e94e084a3622e182b",
              "IPY_MODEL_625c1c6960624da8af2a8fed62a109fa"
            ],
            "layout": "IPY_MODEL_1ea078792ecc408098bc5c45e143630c"
          }
        },
        "6cf8479c416c4a5e94e084a3622e182b": {
          "model_module": "@jupyter-widgets/controls",
          "model_name": "LabelModel",
          "model_module_version": "1.5.0",
          "state": {
            "_dom_classes": [],
            "_model_module": "@jupyter-widgets/controls",
            "_model_module_version": "1.5.0",
            "_model_name": "LabelModel",
            "_view_count": null,
            "_view_module": "@jupyter-widgets/controls",
            "_view_module_version": "1.5.0",
            "_view_name": "LabelView",
            "description": "",
            "description_tooltip": null,
            "layout": "IPY_MODEL_522a220eb3c04675bcf1e5d903ca7f97",
            "placeholder": "​",
            "style": "IPY_MODEL_aaf1d9f6bd314f0899915170c5deecd5",
            "value": "0.011 MB of 0.011 MB uploaded\r"
          }
        },
        "625c1c6960624da8af2a8fed62a109fa": {
          "model_module": "@jupyter-widgets/controls",
          "model_name": "FloatProgressModel",
          "model_module_version": "1.5.0",
          "state": {
            "_dom_classes": [],
            "_model_module": "@jupyter-widgets/controls",
            "_model_module_version": "1.5.0",
            "_model_name": "FloatProgressModel",
            "_view_count": null,
            "_view_module": "@jupyter-widgets/controls",
            "_view_module_version": "1.5.0",
            "_view_name": "ProgressView",
            "bar_style": "",
            "description": "",
            "description_tooltip": null,
            "layout": "IPY_MODEL_2a58b340d5ae4f49a3ae13ef379792f0",
            "max": 1,
            "min": 0,
            "orientation": "horizontal",
            "style": "IPY_MODEL_f38d041229dc4ee0a692517c150b2f1d",
            "value": 1
          }
        },
        "1ea078792ecc408098bc5c45e143630c": {
          "model_module": "@jupyter-widgets/base",
          "model_name": "LayoutModel",
          "model_module_version": "1.2.0",
          "state": {
            "_model_module": "@jupyter-widgets/base",
            "_model_module_version": "1.2.0",
            "_model_name": "LayoutModel",
            "_view_count": null,
            "_view_module": "@jupyter-widgets/base",
            "_view_module_version": "1.2.0",
            "_view_name": "LayoutView",
            "align_content": null,
            "align_items": null,
            "align_self": null,
            "border": null,
            "bottom": null,
            "display": null,
            "flex": null,
            "flex_flow": null,
            "grid_area": null,
            "grid_auto_columns": null,
            "grid_auto_flow": null,
            "grid_auto_rows": null,
            "grid_column": null,
            "grid_gap": null,
            "grid_row": null,
            "grid_template_areas": null,
            "grid_template_columns": null,
            "grid_template_rows": null,
            "height": null,
            "justify_content": null,
            "justify_items": null,
            "left": null,
            "margin": null,
            "max_height": null,
            "max_width": null,
            "min_height": null,
            "min_width": null,
            "object_fit": null,
            "object_position": null,
            "order": null,
            "overflow": null,
            "overflow_x": null,
            "overflow_y": null,
            "padding": null,
            "right": null,
            "top": null,
            "visibility": null,
            "width": null
          }
        },
        "522a220eb3c04675bcf1e5d903ca7f97": {
          "model_module": "@jupyter-widgets/base",
          "model_name": "LayoutModel",
          "model_module_version": "1.2.0",
          "state": {
            "_model_module": "@jupyter-widgets/base",
            "_model_module_version": "1.2.0",
            "_model_name": "LayoutModel",
            "_view_count": null,
            "_view_module": "@jupyter-widgets/base",
            "_view_module_version": "1.2.0",
            "_view_name": "LayoutView",
            "align_content": null,
            "align_items": null,
            "align_self": null,
            "border": null,
            "bottom": null,
            "display": null,
            "flex": null,
            "flex_flow": null,
            "grid_area": null,
            "grid_auto_columns": null,
            "grid_auto_flow": null,
            "grid_auto_rows": null,
            "grid_column": null,
            "grid_gap": null,
            "grid_row": null,
            "grid_template_areas": null,
            "grid_template_columns": null,
            "grid_template_rows": null,
            "height": null,
            "justify_content": null,
            "justify_items": null,
            "left": null,
            "margin": null,
            "max_height": null,
            "max_width": null,
            "min_height": null,
            "min_width": null,
            "object_fit": null,
            "object_position": null,
            "order": null,
            "overflow": null,
            "overflow_x": null,
            "overflow_y": null,
            "padding": null,
            "right": null,
            "top": null,
            "visibility": null,
            "width": null
          }
        },
        "aaf1d9f6bd314f0899915170c5deecd5": {
          "model_module": "@jupyter-widgets/controls",
          "model_name": "DescriptionStyleModel",
          "model_module_version": "1.5.0",
          "state": {
            "_model_module": "@jupyter-widgets/controls",
            "_model_module_version": "1.5.0",
            "_model_name": "DescriptionStyleModel",
            "_view_count": null,
            "_view_module": "@jupyter-widgets/base",
            "_view_module_version": "1.2.0",
            "_view_name": "StyleView",
            "description_width": ""
          }
        },
        "2a58b340d5ae4f49a3ae13ef379792f0": {
          "model_module": "@jupyter-widgets/base",
          "model_name": "LayoutModel",
          "model_module_version": "1.2.0",
          "state": {
            "_model_module": "@jupyter-widgets/base",
            "_model_module_version": "1.2.0",
            "_model_name": "LayoutModel",
            "_view_count": null,
            "_view_module": "@jupyter-widgets/base",
            "_view_module_version": "1.2.0",
            "_view_name": "LayoutView",
            "align_content": null,
            "align_items": null,
            "align_self": null,
            "border": null,
            "bottom": null,
            "display": null,
            "flex": null,
            "flex_flow": null,
            "grid_area": null,
            "grid_auto_columns": null,
            "grid_auto_flow": null,
            "grid_auto_rows": null,
            "grid_column": null,
            "grid_gap": null,
            "grid_row": null,
            "grid_template_areas": null,
            "grid_template_columns": null,
            "grid_template_rows": null,
            "height": null,
            "justify_content": null,
            "justify_items": null,
            "left": null,
            "margin": null,
            "max_height": null,
            "max_width": null,
            "min_height": null,
            "min_width": null,
            "object_fit": null,
            "object_position": null,
            "order": null,
            "overflow": null,
            "overflow_x": null,
            "overflow_y": null,
            "padding": null,
            "right": null,
            "top": null,
            "visibility": null,
            "width": null
          }
        },
        "f38d041229dc4ee0a692517c150b2f1d": {
          "model_module": "@jupyter-widgets/controls",
          "model_name": "ProgressStyleModel",
          "model_module_version": "1.5.0",
          "state": {
            "_model_module": "@jupyter-widgets/controls",
            "_model_module_version": "1.5.0",
            "_model_name": "ProgressStyleModel",
            "_view_count": null,
            "_view_module": "@jupyter-widgets/base",
            "_view_module_version": "1.2.0",
            "_view_name": "StyleView",
            "bar_color": null,
            "description_width": ""
          }
        }
      }
    }
  },
  "nbformat": 4,
  "nbformat_minor": 5
}