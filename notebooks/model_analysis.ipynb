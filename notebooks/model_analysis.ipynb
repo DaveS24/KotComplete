{
 "cells": [
  {
   "metadata": {},
   "cell_type": "markdown",
   "source": "To view detailed visualizations and logs of the evaluations, please visit the [WandB dashboard](https://wandb.ai/daves24/Evaluating_phi-1.5_for_Kotlin-code-completion?workspace=user-daves24) associated with this project.",
   "id": "af8b2f335096b728"
  },
  {
   "metadata": {},
   "cell_type": "code",
   "outputs": [],
   "execution_count": null,
   "source": [
    "# !pip install torch torchvision\n",
    "# !pip install transformers\n",
    "# !pip install datasets\n",
    "# !pip install peft\n",
    "# !pip install bitsandbytes\n",
    "# !pip install accelerate -U\n",
    "# !pip install wandb"
   ],
   "id": "c4bf413c9d341df3"
  },
  {
   "metadata": {},
   "cell_type": "code",
   "outputs": [],
   "execution_count": null,
   "source": [
    "import torch\n",
    "import requests\n",
    "import gdown\n",
    "\n",
    "from transformers import AutoModelForCausalLM, AutoTokenizer, BitsAndBytesConfig, Trainer, TrainingArguments, DataCollatorForLanguageModeling\n",
    "from peft import LoraConfig, get_peft_model\n",
    "from typing import Callable"
   ],
   "id": "ee763e6559b046be"
  },
  {
   "metadata": {},
   "cell_type": "code",
   "outputs": [],
   "execution_count": null,
   "source": [
    "import wandb\n",
    "wandb.login()"
   ],
   "id": "488ce6ae0ecb7445"
  },
  {
   "cell_type": "code",
   "execution_count": null,
   "id": "initial_id",
   "metadata": {
    "collapsed": true
   },
   "outputs": [],
   "source": [
    "base_model_id = \"microsoft/phi-1_5\"\n",
    "tuned_model_link = \"https://drive.google.com/uc?id=TODO: ADD LINK TO [adapter_model.safetensors]\"\n",
    "tuned_model_path = \"/content/model/fine-tuned/model\"\n",
    "model_log_dir = \"/content/model/testing/\"\n",
    "\n",
    "kotlin_data_url = \"https://raw.githubusercontent.com/DaveS24/KotComplete/main/data/Kotlin/test.jsonl\"\n",
    "codexglue_data_url = \"https://raw.githubusercontent.com/DaveS24/KotComplete/main/data/CodeXGLUE/test.jsonl\"\n",
    "dataset_loader_url = \"https://raw.githubusercontent.com/DaveS24/KotComplete/main/src/dataset_loader.py\""
   ]
  },
  {
   "metadata": {},
   "cell_type": "code",
   "outputs": [],
   "execution_count": null,
   "source": "gdown.download(tuned_model_link, tuned_model_path)",
   "id": "11ccc2e70932a850"
  },
  {
   "metadata": {},
   "cell_type": "code",
   "outputs": [],
   "execution_count": null,
   "source": [
    "response_data_parser = requests.get(dataset_loader_url)\n",
    "dataset_loader_code = response_data_parser.text\n",
    "\n",
    "load_jsonl_from_url: Callable\n",
    "create_and_tokenize_dataset: Callable\n",
    "dataset_summary: Callable\n",
    "\n",
    "exec(dataset_loader_code)"
   ],
   "id": "8cbce7374415a386"
  },
  {
   "metadata": {},
   "cell_type": "code",
   "outputs": [],
   "execution_count": null,
   "source": [
    "bnb_config = BitsAndBytesConfig(\n",
    "    load_in_4bit=True,\n",
    "    bnb_4bit_use_double_quant=True,\n",
    "    bnb_4bit_quant_type=\"nf4\",\n",
    "    bnb_4bit_compute_dtype=torch.float16\n",
    ")\n",
    "\n",
    "lora_config = LoraConfig(\n",
    "    r=16,\n",
    "    lora_alpha=16,\n",
    "    target_modules=[\"fc1\", \"fc2\", \"Wqkv\", \"out_proj\"],\n",
    "    lora_dropout=0.05,\n",
    "    bias=\"none\",\n",
    "    task_type=\"CAUSAL_LM\"\n",
    ")"
   ],
   "id": "97d172db9d2e85d5"
  },
  {
   "metadata": {},
   "cell_type": "code",
   "outputs": [],
   "execution_count": null,
   "source": [
    "base_phi_model = AutoModelForCausalLM.from_pretrained(base_model_id, quantization_config=bnb_config)\n",
    "base_phi_model = get_peft_model(base_phi_model, lora_config)\n",
    "base_phi_model.print_trainable_parameters()"
   ],
   "id": "8428dd69c431b007"
  },
  {
   "metadata": {},
   "cell_type": "code",
   "outputs": [],
   "execution_count": null,
   "source": [
    "tuned_phi_model = AutoModelForCausalLM.from_pretrained(tuned_model_path, quantization_config=bnb_config)\n",
    "tuned_phi_model = get_peft_model(tuned_phi_model, lora_config)\n",
    "tuned_phi_model.print_trainable_parameters()"
   ],
   "id": "7441e594c38ee669"
  },
  {
   "metadata": {},
   "cell_type": "code",
   "outputs": [],
   "execution_count": null,
   "source": [
    "phi_tokenizer = AutoTokenizer.from_pretrained(base_model_id)\n",
    "phi_tokenizer.pad_token = phi_tokenizer.eos_token"
   ],
   "id": "6092ee0237c793a9"
  },
  {
   "metadata": {},
   "cell_type": "code",
   "outputs": [],
   "execution_count": null,
   "source": [
    "kotlin_test_data = load_jsonl_from_url(kotlin_data_url, use_subset=True, subset_ratio=0.25)\n",
    "kotlin_test_dataset = create_and_tokenize_dataset(kotlin_test_data, phi_tokenizer)\n",
    "\n",
    "dataset_summary(kotlin_test_dataset)"
   ],
   "id": "b3bc20d3e38463a3"
  },
  {
   "metadata": {},
   "cell_type": "code",
   "outputs": [],
   "execution_count": null,
   "source": [
    "codexglue_test_data = load_jsonl_from_url(codexglue_data_url, use_subset=True, subset_ratio=0.25)\n",
    "codexglue_test_dataset = create_and_tokenize_dataset(codexglue_test_data, phi_tokenizer)\n",
    "\n",
    "dataset_summary(codexglue_test_dataset)"
   ],
   "id": "f74e1b78baad7242"
  },
  {
   "metadata": {},
   "cell_type": "code",
   "outputs": [],
   "execution_count": null,
   "source": [
    "base_training_args = TrainingArguments(\n",
    "    output_dir=model_log_dir + 'base/output/',\n",
    "    per_device_eval_batch_size=8,\n",
    "    evaluation_strategy=\"steps\",\n",
    "    disable_tqdm=True\n",
    ")\n",
    "\n",
    "base_trainer = Trainer(\n",
    "    model=base_phi_model,\n",
    "    args=base_training_args,\n",
    "    data_collator=DataCollatorForLanguageModeling(tokenizer=phi_tokenizer, mlm=False)\n",
    ")"
   ],
   "id": "65a76ac4c7cd801e"
  },
  {
   "metadata": {},
   "cell_type": "code",
   "outputs": [],
   "execution_count": null,
   "source": [
    "run_base_kotlin = wandb.init(project='Evaluating_phi-1.5_for_Kotlin-code-completion', name='base_kotlin_test', job_type='eval', anonymous='allow')\n",
    "\n",
    "base_trainer.evaluate(eval_dataset=kotlin_test_dataset)\n",
    "\n",
    "run_base_kotlin.finish()"
   ],
   "id": "92f208d05ed9fd43"
  },
  {
   "metadata": {},
   "cell_type": "code",
   "outputs": [],
   "execution_count": null,
   "source": [
    "run_base_codexglue = wandb.init(project='Evaluating_phi-1.5_for_Kotlin-code-completion', name='base_codexglue_test', job_type='eval', anonymous='allow')\n",
    "\n",
    "base_trainer.evaluate(eval_dataset=codexglue_test_dataset)\n",
    "\n",
    "run_base_codexglue.finish()"
   ],
   "id": "3d1fbe0adb217ea6"
  },
  {
   "metadata": {},
   "cell_type": "code",
   "outputs": [],
   "execution_count": null,
   "source": [
    "tuned_training_args = TrainingArguments(\n",
    "    output_dir=model_log_dir + 'tuned/output/',\n",
    "    per_device_eval_batch_size=8,\n",
    "    evaluation_strategy=\"steps\",\n",
    "    disable_tqdm=True\n",
    ")\n",
    "\n",
    "tuned_trainer = Trainer(\n",
    "    model=tuned_phi_model,\n",
    "    args=tuned_training_args,\n",
    "    data_collator=DataCollatorForLanguageModeling(tokenizer=phi_tokenizer, mlm=False)\n",
    ")"
   ],
   "id": "1a7027f22ee877e6"
  },
  {
   "metadata": {},
   "cell_type": "code",
   "outputs": [],
   "execution_count": null,
   "source": [
    "run_tuned_kotlin = wandb.init(project='Evaluating_phi-1.5_for_Kotlin-code-completion', name='tuned_kotlin_test', job_type='eval', anonymous='allow')\n",
    "\n",
    "tuned_trainer.evaluate(eval_dataset=kotlin_test_dataset)\n",
    "\n",
    "run_tuned_kotlin.finish()"
   ],
   "id": "551ccc4fe77c44a8"
  },
  {
   "metadata": {},
   "cell_type": "code",
   "outputs": [],
   "execution_count": null,
   "source": [
    "run_tuned_codexglue = wandb.init(project='Evaluating_phi-1.5_for_Kotlin-code-completion', name='tuned_codexglue_test', job_type='eval', anonymous='allow')\n",
    "\n",
    "tuned_trainer.evaluate(eval_dataset=codexglue_test_dataset)\n",
    "\n",
    "run_tuned_codexglue.finish()"
   ],
   "id": "1d24953194d8879a"
  }
 ],
 "metadata": {
  "kernelspec": {
   "display_name": "Python 3",
   "language": "python",
   "name": "python3"
  },
  "language_info": {
   "codemirror_mode": {
    "name": "ipython",
    "version": 2
   },
   "file_extension": ".py",
   "mimetype": "text/x-python",
   "name": "python",
   "nbconvert_exporter": "python",
   "pygments_lexer": "ipython2",
   "version": "2.7.6"
  }
 },
 "nbformat": 4,
 "nbformat_minor": 5
}
